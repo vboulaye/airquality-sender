{
 "cells": [
  {
   "cell_type": "code",
   "execution_count": 1,
   "metadata": {
    "pycharm": {
     "is_executing": false
    }
   },
   "outputs": [],
   "source": [
    "import pandas as pd\n",
    "import numpy as np\n",
    "import matplotlib.pyplot as plt\n",
    "import json\n",
    "import requests    \n",
    "from scipy import stats\n",
    "import os, datetime\n",
    "%matplotlib inline\n",
    "import altair as alt\n",
    "\n"
   ]
  },
  {
   "cell_type": "code",
   "execution_count": 2,
   "metadata": {
    "pycharm": {
     "is_executing": false
    },
    "tags": [
     "parameters"
    ]
   },
   "outputs": [
    {
     "name": "stdout",
     "output_type": "stream",
     "text": [
      "configuration loaded\n"
     ]
    }
   ],
   "source": [
    "try:\n",
    "    with open(\"airquality-config.json\") as f:                 \n",
    "        data = json.load(f)\n",
    "        webcom_database = data['webcom_database']\n",
    "        location = data['location']\n",
    "        timezone = data['timezone']\n",
    "except:\n",
    "    print(\"###\")\n",
    "    print(\"###\")\n",
    "    print(\"###\")\n",
    "    print('### to run the notebook locally, setup an airquality-config.json file from the example')\n",
    "    print(\"###\")\n",
    "    print(\"###\")\n",
    "    print(\"###\")\n",
    "\n",
    "print(\"configuration loaded\")  "
   ]
  },
  {
   "cell_type": "code",
   "execution_count": 3,
   "metadata": {
    "pycharm": {
     "is_executing": false
    }
   },
   "outputs": [
    {
     "name": "stdout",
     "output_type": "stream",
     "text": [
      "loading secrets from airquality-secrets.json\n"
     ]
    }
   ],
   "source": [
    "try:\n",
    "    secrets_path=secretsPath\n",
    "except:\n",
    "    secrets_path='airquality-secrets.json'\n",
    "\n",
    "print(\"loading secrets from \"+secrets_path)    "
   ]
  },
  {
   "cell_type": "code",
   "execution_count": 4,
   "metadata": {
    "pycharm": {
     "is_executing": false
    }
   },
   "outputs": [
    {
     "name": "stdout",
     "output_type": "stream",
     "text": [
      "###\n",
      "###\n",
      "###\n",
      "### to run the notebook locally, setup an airquality-secrets.json file from the example\n",
      "###\n",
      "###\n",
      "###\n",
      "secrets loaded\n"
     ]
    }
   ],
   "source": [
    "    \n",
    "try:\n",
    "    with open(secrets_path) as f:                 \n",
    "        data = json.load(f)\n",
    "        webcom_key = data['webcom_key']\n",
    "except:\n",
    "    print(\"###\")\n",
    "    print(\"###\")\n",
    "    print(\"###\")\n",
    "    print('### to run the notebook locally, setup an '+secrets_path+' file from the example')\n",
    "    print(\"###\")\n",
    "    print(\"###\")\n",
    "    print(\"###\")\n",
    "\n",
    "print(\"secrets loaded\")    "
   ]
  },
  {
   "cell_type": "code",
   "execution_count": 5,
   "metadata": {
    "pycharm": {
     "is_executing": false
    }
   },
   "outputs": [
    {
     "name": "stdout",
     "output_type": "stream",
     "text": [
      "running with the following parameters:\n",
      "- webcom_database: airquality\n",
      "- location: juvisy\n"
     ]
    },
    {
     "ename": "NameError",
     "evalue": "name 'webcom_key' is not defined",
     "output_type": "error",
     "traceback": [
      "\u001b[0;31m---------------------------------------------------------------------------\u001b[0m",
      "\u001b[0;31mNameError\u001b[0m                                 Traceback (most recent call last)",
      "\u001b[0;32m<ipython-input-5-64a434d737e3>\u001b[0m in \u001b[0;36m<module>\u001b[0;34m\u001b[0m\n\u001b[1;32m      2\u001b[0m \u001b[0mprint\u001b[0m\u001b[0;34m(\u001b[0m\u001b[0;34m\"- webcom_database: \"\u001b[0m\u001b[0;34m+\u001b[0m\u001b[0mwebcom_database\u001b[0m\u001b[0;34m)\u001b[0m\u001b[0;34m\u001b[0m\u001b[0;34m\u001b[0m\u001b[0m\n\u001b[1;32m      3\u001b[0m \u001b[0mprint\u001b[0m\u001b[0;34m(\u001b[0m\u001b[0;34m\"- location: \"\u001b[0m\u001b[0;34m+\u001b[0m\u001b[0mlocation\u001b[0m\u001b[0;34m)\u001b[0m\u001b[0;34m\u001b[0m\u001b[0;34m\u001b[0m\u001b[0m\n\u001b[0;32m----> 4\u001b[0;31m \u001b[0mprint\u001b[0m\u001b[0;34m(\u001b[0m\u001b[0;34m\"- webcom_key (length): \"\u001b[0m\u001b[0;34m+\u001b[0m\u001b[0mstr\u001b[0m\u001b[0;34m(\u001b[0m\u001b[0mlen\u001b[0m\u001b[0;34m(\u001b[0m\u001b[0mwebcom_key\u001b[0m\u001b[0;34m)\u001b[0m\u001b[0;34m)\u001b[0m\u001b[0;34m)\u001b[0m\u001b[0;34m\u001b[0m\u001b[0;34m\u001b[0m\u001b[0m\n\u001b[0m",
      "\u001b[0;31mNameError\u001b[0m: name 'webcom_key' is not defined"
     ]
    }
   ],
   "source": [
    "print(\"running with the following parameters:\")\n",
    "print(\"- webcom_database: \"+webcom_database)    \n",
    "print(\"- location: \"+location)    \n",
    "print(\"- webcom_key (length): \"+str(len(webcom_key)))\n"
   ]
  },
  {
   "cell_type": "code",
   "execution_count": 8,
   "metadata": {
    "pycharm": {
     "is_executing": false
    }
   },
   "outputs": [
    {
     "ename": "NameError",
     "evalue": "name 'webcom_key' is not defined",
     "output_type": "error",
     "traceback": [
      "\u001b[0;31m---------------------------------------------------------------------------\u001b[0m",
      "\u001b[0;31mNameError\u001b[0m                                 Traceback (most recent call last)",
      "\u001b[0;32m<ipython-input-8-c7e4da528739>\u001b[0m in \u001b[0;36m<module>\u001b[0;34m\u001b[0m\n\u001b[1;32m      1\u001b[0m r = requests.get('https://io.datasync.orange.com/datasync/v2/'+webcom_database+'/data/'+location, \n\u001b[1;32m      2\u001b[0m                  headers={\"content-type\":\"application/json\", \n\u001b[0;32m----> 3\u001b[0;31m                           \"Authorization\": \"Bearer \"+webcom_key})\n\u001b[0m\u001b[1;32m      4\u001b[0m \u001b[0mjson_content\u001b[0m \u001b[0;34m=\u001b[0m \u001b[0mr\u001b[0m\u001b[0;34m.\u001b[0m\u001b[0mjson\u001b[0m\u001b[0;34m(\u001b[0m\u001b[0;34m)\u001b[0m\u001b[0;34m\u001b[0m\u001b[0;34m\u001b[0m\u001b[0m\n\u001b[1;32m      5\u001b[0m \u001b[0;31m#print(json.dumps(json_content, indent=2))\u001b[0m\u001b[0;34m\u001b[0m\u001b[0;34m\u001b[0m\u001b[0;34m\u001b[0m\u001b[0m\n",
      "\u001b[0;31mNameError\u001b[0m: name 'webcom_key' is not defined"
     ]
    }
   ],
   "source": [
    "\n",
    "r = requests.get('https://io.datasync.orange.com/datasync/v2/'+webcom_database+'/data/'+location, \n",
    "                 headers={\"content-type\":\"application/json\", \n",
    "                          \"Authorization\": \"Bearer \"+webcom_key})\n",
    "json_content = r.json()\n",
    "#print(json.dumps(json_content, indent=2))\n",
    "print (\"size of the loaded json: \" +str(len(json.dumps(json_content))/1024) +\"K\")\n",
    "\n"
   ]
  },
  {
   "cell_type": "code",
   "execution_count": null,
   "metadata": {
    "pycharm": {
     "is_executing": false
    }
   },
   "outputs": [],
   "source": [
    "data = []\n",
    "for year in json_content:\n",
    "    #print(year)\n",
    "    for month in json_content[year]:\n",
    "        #print(month)\n",
    "        for day in json_content[year][month]:\n",
    "            #print(day)\n",
    "            for measure in json_content[year][month][day]:\n",
    "                #print(measure)\n",
    "                data.append( json_content[year][month][day][measure])\n",
    "\n",
    "data = sorted(data, key=lambda d: d['ts'])    \n",
    "#print(json.dumps(data, indent=2))\n",
    "print(pd.DataFrame(data).tail())"
   ]
  },
  {
   "cell_type": "code",
   "execution_count": null,
   "metadata": {
    "pycharm": {
     "is_executing": false
    }
   },
   "outputs": [],
   "source": [
    "\n",
    "#df = pd.read_json( json.dumps(json_content), orient='index', convert_dates=['ts'], date_unit='ms')\n",
    "df = pd.read_json( json.dumps(data),  convert_dates=['ts'], date_unit='ms')\n",
    "#df.ts = df.index.tz_localize('GMT')\n",
    "#df.ts.dt.tz_localize('GMT').tz_convert('America/New_York')\n",
    "\n",
    "\n",
    "df = df.set_index('ts')\n",
    "df.index = df.index.tz_localize('UTC').tz_convert(timezone)\n",
    "\n",
    "print(df.tail())\n"
   ]
  },
  {
   "cell_type": "code",
   "execution_count": null,
   "metadata": {
    "pycharm": {
     "is_executing": false
    }
   },
   "outputs": [],
   "source": [
    "df.pm_2_5.tail(10).mean()"
   ]
  },
  {
   "cell_type": "code",
   "execution_count": null,
   "metadata": {
    "pycharm": {
     "is_executing": false
    }
   },
   "outputs": [],
   "source": [
    "stats.gmean(df[df.pm_2_5>0].pm_2_5.tail(10))"
   ]
  },
  {
   "cell_type": "code",
   "execution_count": null,
   "metadata": {
    "pycharm": {
     "is_executing": false
    }
   },
   "outputs": [],
   "source": [
    "df.groupby([df.index.strftime('%y%m%d %H')]).pm_2_5.median().plot()"
   ]
  },
  {
   "cell_type": "code",
   "execution_count": null,
   "metadata": {
    "pycharm": {
     "is_executing": false
    }
   },
   "outputs": [],
   "source": [
    "df.pm_1_0.rolling(10).mean().plot()\n",
    "df.pm_2_5.rolling(10).mean().plot()\n",
    "df.pm_10_0.rolling(10).mean().plot()\n"
   ]
  },
  {
   "cell_type": "code",
   "execution_count": null,
   "metadata": {
    "pycharm": {
     "is_executing": false
    }
   },
   "outputs": [],
   "source": [
    "import tempfile\n",
    "\n",
    "try:\n",
    "    output_dir = os.environ['GITHUB_WORKSPACE'] + '/output'\n",
    "except KeyError:\n",
    "    output_dir = tempfile.gettempdir()+'/jupyter/airquality'    \n",
    "\n",
    "if not os.path.exists(output_dir):\n",
    "    os.makedirs(output_dir)\n",
    "\n",
    "print('saving chart in '+output_dir)        \n"
   ]
  },
  {
   "cell_type": "code",
   "execution_count": null,
   "metadata": {
    "pycharm": {
     "is_executing": false
    },
    "slideshow": {
     "slide_type": "slide"
    }
   },
   "outputs": [],
   "source": [
    "#alt.data_transformers.enable('json')\n",
    "\n",
    "#convert data to the better format for altair (ts,pm_1_0,pm_2_5, pm_10_0) => (ts,particle,value)\n",
    "long_form_data=df.reset_index().melt('ts', var_name='particle', value_name='value')\n",
    "\n",
    "def print_graph(graph_type, hours):\n",
    "    \n",
    "    data=long_form_data\n",
    "        \n",
    "    previous_data = data\n",
    "        \n",
    "    if hours>0:\n",
    "        data.ts = data.ts.dt.tz_localize(None)\n",
    "        delta=datetime.timedelta(hours=hours)\n",
    "        date_before = datetime.datetime.now() - delta \n",
    "        data=data[data.ts.between(date_before, datetime.datetime.now())].copy()\n",
    "        \n",
    "        \n",
    "        previous_data = long_form_data.copy() \n",
    "        previous_data.ts = previous_data.ts + delta\n",
    "        previous_data=previous_data[previous_data.ts.between(date_before, datetime.datetime.now())]\n",
    "        \n",
    "        data.ts = data.ts.dt.tz_localize(timezone)\n",
    "        previous_data.ts = previous_data.ts.dt.tz_localize(timezone)\n",
    "    \n",
    "\n",
    "    max_value = max( data.value.max(), previous_data.value.max())\n",
    "    data['max_value'] = max_value\n",
    "\n",
    "    # save the data locally for display inside jupyer, the html graph will reference this 'local' json\n",
    "    url = 'data-' + location + '-' + graph_type + '.json'\n",
    "    data.to_json(url, orient='records')\n",
    "    \n",
    "    previous_url = 'data-' + location + '-' + graph_type + '-previous.json'\n",
    "    previous_data.to_json(previous_url, orient='records')\n",
    "\n",
    "    click = alt.selection_multi(encodings=['color'])\n",
    "\n",
    "    points = alt.Chart(url).mark_point().encode(\n",
    "        alt.X('ts:T', title='date'),    \n",
    "        y=alt.Y('value:Q',\n",
    "                scale=alt.Scale(domain=(0,max_value)),\n",
    "                axis=alt.Axis(title='particle count')),\n",
    "        color='particle:N',\n",
    "        size=alt.value(1),\n",
    "        tooltip=['monthdate(ts):T','hoursminutes(ts):T','particle:N','value:Q'],\n",
    "    ).properties(\n",
    "        title='@'+location+' last '+graph_type,\n",
    "        width=800,\n",
    "        height=500\n",
    "    ).transform_filter(\n",
    "        click\n",
    "    ).interactive()\n",
    "\n",
    "    line = alt.Chart(url).mark_line().encode(\n",
    "      x='ts:T',\n",
    "      y='value:Q',\n",
    "      color='particle:N',\n",
    "      strokeDash='particle:N',\n",
    "      size=alt.value(3),\n",
    "    ).transform_window(\n",
    "        moving_avg='mean(value)',\n",
    "        frame=[-3, 2],\n",
    "        sort=[alt.SortField(\"ts\",\"ascending\")],\n",
    "        groupby=['particle']\n",
    "    ).encode(\n",
    "        x='ts:T',\n",
    "        y='moving_avg:Q'\n",
    "    ).transform_filter(\n",
    "        click\n",
    "    )\n",
    "    \n",
    "  \n",
    "    if hours>0:\n",
    "        previous_line = alt.Chart(previous_url).mark_line(opacity=0.3).encode(\n",
    "          x='ts:T',\n",
    "          y='value:Q',\n",
    "          color='particle:N',\n",
    "          strokeDash='particle:N',\n",
    "          size=alt.value(3),\n",
    "        ).transform_window(\n",
    "            moving_avg='mean(value)',\n",
    "            frame=[-3, 2],\n",
    "            sort=[alt.SortField(\"ts\",\"ascending\")],\n",
    "            groupby=['particle']\n",
    "        ).encode(\n",
    "            x='ts:T',\n",
    "            y='moving_avg:Q'\n",
    "        ).transform_filter(\n",
    "            click\n",
    "        )\n",
    "        \n",
    "        #waiting for https://github.com/vega/vega/issues/2365\n",
    "#     print (max_value/1000.0)    \n",
    "#     area = alt.Chart(url).mark_area(\n",
    "#         opacity=0.5,\n",
    "#         color=alt.Gradient(\n",
    "#             gradient='linear',\n",
    "#             stops=[\n",
    "#                    alt.GradientStop(color='#009966', offset=0.001),\n",
    "#                    alt.GradientStop(color='#ffde33', offset=0.050),\n",
    "#                    alt.GradientStop(color='#ff9933', offset=0.100),\n",
    "#                    alt.GradientStop(color='#e81111', offset=0.150),\n",
    "#                    alt.GradientStop(color='#660099', offset=0.200),\n",
    "#                    alt.GradientStop(color='#7e0023', offset=0.300),\n",
    "#                   ],\n",
    "#             x1=0,\n",
    "#             x2=0,\n",
    "#             y1=max_value/1000.0,\n",
    "#             y2=0\n",
    "#         )        \n",
    "#       ).encode(\n",
    "#         x='ts:T',\n",
    "#         y='max_value:Q',\n",
    "#     )\n",
    "            \n",
    "    legend = alt.Chart(url).mark_rect().encode(\n",
    "        y=alt.Y('particle:N', axis=alt.Axis(title='Particle type')),\n",
    "        color=alt.condition(click, 'particle:N', \n",
    "                            alt.value('lightgray'), \n",
    "                            legend=None),\n",
    "        size=alt.value(250)\n",
    "    ).properties(\n",
    "        selection=click\n",
    "    )\n",
    "   \n",
    "\n",
    "    if hours>0:\n",
    "        chart = (points +line + previous_line) | legend\n",
    "    else:\n",
    "        chart = (points + line) | legend\n",
    "            \n",
    "    chart = chart.configure_title(\n",
    "        fontSize=20,\n",
    "    )\n",
    " \n",
    "\n",
    "    if hours>0:\n",
    "        previous_data.to_json(output_dir+'/'+previous_url, orient='records')\n",
    "    data.to_json(output_dir+'/'+url, orient='records')\n",
    "    chart.save(output_dir+'/airquality-'+location+'-'+graph_type+'.html') \n",
    "\n",
    "    return chart\n",
    "    \n",
    "    "
   ]
  },
  {
   "cell_type": "code",
   "execution_count": null,
   "metadata": {
    "pycharm": {
     "is_executing": false
    },
    "scrolled": true
   },
   "outputs": [],
   "source": [
    "print_graph('48H', 48)"
   ]
  },
  {
   "cell_type": "code",
   "execution_count": null,
   "metadata": {
    "pycharm": {
     "is_executing": false
    }
   },
   "outputs": [],
   "source": [
    "print_graph('month', 24*30)"
   ]
  },
  {
   "cell_type": "code",
   "execution_count": null,
   "metadata": {
    "pycharm": {
     "is_executing": false
    }
   },
   "outputs": [],
   "source": [
    "print_graph('year', 24*30)"
   ]
  }
 ],
 "metadata": {
  "celltoolbar": "Diaporama",
  "kernelspec": {
   "display_name": "Python 3",
   "language": "python",
   "name": "python3"
  },
  "language_info": {
   "codemirror_mode": {
    "name": "ipython",
    "version": 3
   },
   "file_extension": ".py",
   "mimetype": "text/x-python",
   "name": "python",
   "nbconvert_exporter": "python",
   "pygments_lexer": "ipython3",
   "version": "3.6.9"
  }
 },
 "nbformat": 4,
 "nbformat_minor": 2
}
