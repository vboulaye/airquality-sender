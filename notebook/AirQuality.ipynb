{
 "cells": [
  {
   "cell_type": "code",
   "execution_count": 1,
   "metadata": {},
   "outputs": [],
   "source": [
    "import pandas as pd\n",
    "import numpy as np\n",
    "import matplotlib.pyplot as plt\n",
    "import json\n",
    "import requests\n",
    "from scipy import stats\n",
    "import os, datetime\n",
    "%matplotlib inline\n",
    "import altair as alt\n",
    "\n"
   ]
  },
  {
   "cell_type": "code",
   "execution_count": 2,
   "metadata": {
    "tags": [
     "parameters"
    ]
   },
   "outputs": [
    {
     "name": "stdout",
     "output_type": "stream",
     "text": [
      "configuration loaded\n"
     ]
    }
   ],
   "source": [
    "try:\n",
    "    with open(\"airquality-config.json\") as f:\n",
    "        data = json.load(f)\n",
    "        webcom_database = data['webcom_database']\n",
    "        location = data['location']\n",
    "        timezone = data['timezone']\n",
    "except:\n",
    "    print(\"###\")\n",
    "    print(\"###\")\n",
    "    print(\"###\")\n",
    "    print('### to run the notebook locally, setup an airquality-config.json file from the example')\n",
    "    print(\"###\")\n",
    "    print(\"###\")\n",
    "    print(\"###\")\n",
    "\n",
    "print(\"configuration loaded\")"
   ]
  },
  {
   "cell_type": "code",
   "execution_count": 3,
   "metadata": {},
   "outputs": [
    {
     "name": "stdout",
     "output_type": "stream",
     "text": [
      "loading secrets from airquality-secrets.json\n"
     ]
    }
   ],
   "source": [
    "try:\n",
    "    secrets_path=secretsPath\n",
    "except:\n",
    "    secrets_path='airquality-secrets.json'\n",
    "\n",
    "print(\"loading secrets from \"+secrets_path)"
   ]
  },
  {
   "cell_type": "code",
   "execution_count": 4,
   "metadata": {},
   "outputs": [
    {
     "name": "stdout",
     "output_type": "stream",
     "text": [
      "secrets loaded\n"
     ]
    }
   ],
   "source": [
    "\n",
    "try:\n",
    "    with open(secrets_path) as f:\n",
    "        data = json.load(f)\n",
    "        webcom_key = data['webcom_key']\n",
    "except:\n",
    "    print(\"###\")\n",
    "    print(\"###\")\n",
    "    print(\"###\")\n",
    "    print('### to run the notebook locally, setup an '+secrets_path+' file from the example')\n",
    "    print(\"###\")\n",
    "    print(\"###\")\n",
    "    print(\"###\")\n",
    "\n",
    "print(\"secrets loaded\")"
   ]
  },
  {
   "cell_type": "code",
   "execution_count": 5,
   "metadata": {},
   "outputs": [
    {
     "name": "stdout",
     "output_type": "stream",
     "text": [
      "running with the following parameters:\n",
      "- webcom_database: airquality\n",
      "- location: juvisy\n",
      "- webcom_key (length): 40\n"
     ]
    }
   ],
   "source": [
    "print(\"running with the following parameters:\")\n",
    "print(\"- webcom_database: \"+webcom_database)\n",
    "print(\"- location: \"+location)\n",
    "print(\"- webcom_key (length): \"+str(len(webcom_key)))\n"
   ]
  },
  {
   "cell_type": "code",
   "execution_count": 6,
   "metadata": {},
   "outputs": [
    {
     "name": "stdout",
     "output_type": "stream",
     "text": [
      "size of the loaded json: 2928.396484375K\n"
     ]
    }
   ],
   "source": [
    "\n",
    "r = requests.get('https://io.datasync.orange.com/datasync/v2/'+webcom_database+'/data/'+location,\n",
    "                 headers={\"content-type\":\"application/json\",\n",
    "                          \"Authorization\": \"Bearer \"+webcom_key})\n",
    "json_content = r.json()\n",
    "#print(json.dumps(json_content, indent=2))\n",
    "print (\"size of the loaded json: \" +str(len(json.dumps(json_content))/1024) +\"K\")\n",
    "\n"
   ]
  },
  {
   "cell_type": "code",
   "execution_count": 7,
   "metadata": {},
   "outputs": [
    {
     "name": "stdout",
     "output_type": "stream",
     "text": [
      "       pm_10_0  pm_1_0  pm_2_5             ts\n",
      "34291        0       0       0  1603699347109\n",
      "34292        0       0       0  1603699748676\n",
      "34293        0       0       0  1603700150245\n",
      "34294        0       0       0  1603700551548\n",
      "34295        3       0       0  1603700953279\n"
     ]
    }
   ],
   "source": [
    "data = []\n",
    "for year in json_content:\n",
    "    #print(year)\n",
    "    for month in json_content[year]:\n",
    "        #print(month)\n",
    "        for day in json_content[year][month]:\n",
    "            #print(day)\n",
    "            for measure in json_content[year][month][day]:\n",
    "                #print(measure)\n",
    "                data.append( json_content[year][month][day][measure])\n",
    "\n",
    "data = sorted(data, key=lambda d: d['ts'])\n",
    "#print(json.dumps(data, indent=2))\n",
    "print(pd.DataFrame(data).tail())"
   ]
  },
  {
   "cell_type": "code",
   "execution_count": 21,
   "metadata": {},
   "outputs": [
    {
     "name": "stdout",
     "output_type": "stream",
     "text": [
      "                                  pm_10_0  pm_1_0  pm_2_5\n",
      "ts                                                       \n",
      "2020-10-26 09:02:27.109000+01:00        0       0       0\n",
      "2020-10-26 09:09:08.676000+01:00        0       0       0\n",
      "2020-10-26 09:15:50.245000+01:00        0       0       0\n",
      "2020-10-26 09:22:31.548000+01:00        0       0       0\n",
      "2020-10-26 09:29:13.279000+01:00        3       0       0\n"
     ]
    }
   ],
   "source": [
    "\n",
    "#df = pd.read_json( json.dumps(json_content), orient='index', convert_dates=['ts'], date_unit='ms')\n",
    "df = pd.read_json( json.dumps(data),  convert_dates=['ts'], date_unit='ms')\n",
    "#df.ts = df.index.tz_localize('GMT', ambiguous='NaT')\n",
    "#df.ts.dt.tz_localize('GMT', ambiguous='NaT').tz_convert('America/New_York')\n",
    "\n",
    "\n",
    "df = df.set_index('ts')\n",
    "df.index = df.index.tz_localize('UTC', ambiguous='NaT').tz_convert(timezone)\n",
    "\n",
    "print(df.tail())\n"
   ]
  },
  {
   "cell_type": "code",
   "execution_count": 22,
   "metadata": {},
   "outputs": [
    {
     "data": {
      "text/plain": [
       "0.0"
      ]
     },
     "execution_count": 22,
     "metadata": {},
     "output_type": "execute_result"
    }
   ],
   "source": [
    "df.pm_2_5.tail(10).mean()"
   ]
  },
  {
   "cell_type": "code",
   "execution_count": 23,
   "metadata": {},
   "outputs": [
    {
     "data": {
      "text/plain": [
       "2.0476725110792193"
      ]
     },
     "execution_count": 23,
     "metadata": {},
     "output_type": "execute_result"
    }
   ],
   "source": [
    "stats.gmean(df[df.pm_2_5>0].pm_2_5.tail(10))"
   ]
  },
  {
   "cell_type": "code",
   "execution_count": 24,
   "metadata": {},
   "outputs": [
    {
     "data": {
      "text/plain": [
       "<AxesSubplot:xlabel='ts'>"
      ]
     },
     "execution_count": 24,
     "metadata": {},
     "output_type": "execute_result"
    },
    {
     "data": {
      "image/png": "[encoded data removed]",
      "text/plain": [
       "<Figure size 432x288 with 1 Axes>"
      ]
     },
     "metadata": {
      "needs_background": "light"
     },
     "output_type": "display_data"
    }
   ],
   "source": [
    "df.groupby([df.index.strftime('%y%m%d %H')]).pm_2_5.median().plot()"
   ]
  },
  {
   "cell_type": "code",
   "execution_count": 25,
   "metadata": {},
   "outputs": [
    {
     "data": {
      "text/plain": [
       "<AxesSubplot:xlabel='ts'>"
      ]
     },
     "execution_count": 25,
     "metadata": {},
     "output_type": "execute_result"
    },
    {
     "data": {
      "image/png": "[encoded data removed]",
      "text/plain": [
       "<Figure size 432x288 with 1 Axes>"
      ]
     },
     "metadata": {
      "needs_background": "light"
     },
     "output_type": "display_data"
    }
   ],
   "source": [
    "df.pm_1_0.rolling(10).mean().plot()\n",
    "df.pm_2_5.rolling(10).mean().plot()\n",
    "df.pm_10_0.rolling(10).mean().plot()\n"
   ]
  },
  {
   "cell_type": "code",
   "execution_count": 26,
   "metadata": {},
   "outputs": [
    {
     "name": "stdout",
     "output_type": "stream",
     "text": [
      "saving chart in /tmp/jupyter/airquality\n"
     ]
    }
   ],
   "source": [
    "import tempfile\n",
    "\n",
    "try:\n",
    "    output_dir = os.environ['GITHUB_WORKSPACE'] + '/output'\n",
    "except KeyError:\n",
    "    output_dir = tempfile.gettempdir()+'/jupyter/airquality'\n",
    "\n",
    "if not os.path.exists(output_dir):\n",
    "    os.makedirs(output_dir)\n",
    "\n",
    "print('saving chart in '+output_dir)\n"
   ]
  },
  {
   "cell_type": "code",
   "execution_count": 27,
   "metadata": {
    "slideshow": {
     "slide_type": "slide"
    }
   },
   "outputs": [],
   "source": [
    "#alt.data_transformers.enable('json')\n",
    "\n",
    "#convert data to the better format for altair (ts,pm_1_0,pm_2_5, pm_10_0) => (ts,particle,value)\n",
    "long_form_data=df.reset_index().melt('ts', var_name='particle', value_name='value')\n",
    "\n",
    "def print_graph(graph_type, hours):\n",
    "\n",
    "    data=long_form_data\n",
    "\n",
    "    previous_data = data\n",
    "\n",
    "    if hours>0:\n",
    "        data.ts = data.ts.dt.tz_localize(None, ambiguous='NaT')\n",
    "        delta=datetime.timedelta(hours=hours)\n",
    "        date_before = datetime.datetime.now() - delta\n",
    "        data=data[data.ts.between(date_before, datetime.datetime.now())].copy()\n",
    "\n",
    "\n",
    "        previous_data = long_form_data.copy()\n",
    "        previous_data.ts = previous_data.ts + delta\n",
    "        previous_data=previous_data[previous_data.ts.between(date_before, datetime.datetime.now())]\n",
    "\n",
    "        data.ts = data.ts.dt.tz_localize(timezone, ambiguous='NaT')\n",
    "        previous_data.ts = previous_data.ts.dt.tz_localize(timezone, ambiguous='NaT')\n",
    "\n",
    "\n",
    "    max_value = max( data.value.max(), previous_data.value.max())\n",
    "    data['max_value'] = max_value\n",
    "\n",
    "    # save the data locally for display inside jupyer, the html graph will reference this 'local' json\n",
    "    url = 'data-' + location + '-' + graph_type + '.json'\n",
    "    data.to_json(url, orient='records')\n",
    "\n",
    "    previous_url = 'data-' + location + '-' + graph_type + '-previous.json'\n",
    "    previous_data.to_json(previous_url, orient='records')\n",
    "\n",
    "    click = alt.selection_multi(encodings=['color'])\n",
    "\n",
    "    points = alt.Chart(url).mark_point().encode(\n",
    "        alt.X('ts:T', title='date'),\n",
    "        y=alt.Y('value:Q',\n",
    "                scale=alt.Scale(domain=(0,max(100, max_value))),\n",
    "                axis=alt.Axis(title='particle count')),\n",
    "        color='particle:N',\n",
    "        size=alt.value(1),\n",
    "        tooltip=['monthdate(ts):T','hoursminutes(ts):T','particle:N','value:Q'],\n",
    "    ).properties(\n",
    "        title='@'+location+' last '+graph_type,\n",
    "        width=800,\n",
    "        height=500\n",
    "    ).transform_filter(\n",
    "        click\n",
    "    ).interactive()\n",
    "\n",
    "    line = alt.Chart(url).mark_line().encode(\n",
    "      x='ts:T',\n",
    "      y='value:Q',\n",
    "      color='particle:N',\n",
    "      strokeDash='particle:N',\n",
    "      size=alt.value(3),\n",
    "    ).transform_window(\n",
    "        moving_avg='mean(value)',\n",
    "        frame=[-3, 2],\n",
    "        sort=[alt.SortField(\"ts\",\"ascending\")],\n",
    "        groupby=['particle']\n",
    "    ).encode(\n",
    "        x='ts:T',\n",
    "        y='moving_avg:Q'\n",
    "    ).transform_filter(\n",
    "        click\n",
    "    )\n",
    "\n",
    "\n",
    "    if hours>0:\n",
    "        previous_line = alt.Chart(previous_url).mark_line(opacity=0.3).encode(\n",
    "          x='ts:T',\n",
    "          y='value:Q',\n",
    "          color='particle:N',\n",
    "          strokeDash='particle:N',\n",
    "          size=alt.value(3),\n",
    "        ).transform_window(\n",
    "            moving_avg='mean(value)',\n",
    "            frame=[-3, 2],\n",
    "            sort=[alt.SortField(\"ts\",\"ascending\")],\n",
    "            groupby=['particle']\n",
    "        ).encode(\n",
    "            x='ts:T',\n",
    "            y='moving_avg:Q'\n",
    "        ).transform_filter(\n",
    "            click\n",
    "        )\n",
    "\n",
    "        #waiting for https://github.com/vega/vega/issues/2365\n",
    "#     print (max_value/1000.0)\n",
    "#     area = alt.Chart(url).mark_area(\n",
    "#         opacity=0.5,\n",
    "#         color=alt.Gradient(\n",
    "#             gradient='linear',\n",
    "#             stops=[\n",
    "#                    alt.GradientStop(color='#009966', offset=0.001),\n",
    "#                    alt.GradientStop(color='#ffde33', offset=0.050),\n",
    "#                    alt.GradientStop(color='#ff9933', offset=0.100),\n",
    "#                    alt.GradientStop(color='#e81111', offset=0.150),\n",
    "#                    alt.GradientStop(color='#660099', offset=0.200),\n",
    "#                    alt.GradientStop(color='#7e0023', offset=0.300),\n",
    "#                   ],\n",
    "#             x1=0,\n",
    "#             x2=0,\n",
    "#             y1=max_value/1000.0,\n",
    "#             y2=0\n",
    "#         )\n",
    "#       ).encode(\n",
    "#         x='ts:T',\n",
    "#         y='max_value:Q',\n",
    "#     )\n",
    "\n",
    "    legend = alt.Chart(url).mark_rect().encode(\n",
    "        y=alt.Y('particle:N', axis=alt.Axis(title='Particle type')),\n",
    "        color=alt.condition(click, 'particle:N',\n",
    "                            alt.value('lightgray'),\n",
    "                            legend=None),\n",
    "        size=alt.value(250)\n",
    "    ).properties(\n",
    "        selection=click\n",
    "    )\n",
    "\n",
    "\n",
    "    if hours>0:\n",
    "        chart = (points +line + previous_line) | legend\n",
    "    else:\n",
    "        chart = (points + line) | legend\n",
    "\n",
    "    chart = chart.configure_title(\n",
    "        fontSize=20,\n",
    "    )\n",
    "\n",
    "\n",
    "    if hours>0:\n",
    "        previous_data.to_json(output_dir+'/'+previous_url, orient='records')\n",
    "    data.to_json(output_dir+'/'+url, orient='records')\n",
    "    chart.save(output_dir+'/airquality-'+location+'-'+graph_type+'.html')\n",
    "\n",
    "    return chart\n",
    "\n"
   ]
  },
  {
   "cell_type": "code",
   "execution_count": 15,
   "metadata": {
    "scrolled": true
   },
   "outputs": [
    {
     "data": {
      "text/html": [
       "\n",
       "<div id=\"altair-viz-22cbb099b0a64d0db02a3c8c2fe4424d\"></div>\n",
       "<script type=\"text/javascript\">\n",
       "  (function(spec, embedOpt){\n",
       "    let outputDiv = document.currentScript.previousElementSibling;\n",
       "    if (outputDiv.id !== \"altair-viz-22cbb099b0a64d0db02a3c8c2fe4424d\") {\n",
       "      outputDiv = document.getElementById(\"altair-viz-22cbb099b0a64d0db02a3c8c2fe4424d\");\n",
       "    }\n",
       "    const paths = {\n",
       "      \"vega\": \"https://cdn.jsdelivr.net/npm//vega@5?noext\",\n",
       "      \"vega-lib\": \"https://cdn.jsdelivr.net/npm//vega-lib?noext\",\n",
       "      \"vega-lite\": \"https://cdn.jsdelivr.net/npm//vega-lite@4.8.1?noext\",\n",
       "      \"vega-embed\": \"https://cdn.jsdelivr.net/npm//vega-embed@6?noext\",\n",
       "    };\n",
       "\n",
       "    function loadScript(lib) {\n",
       "      return new Promise(function(resolve, reject) {\n",
       "        var s = document.createElement('script');\n",
       "        s.src = paths[lib];\n",
       "        s.async = true;\n",
       "        s.onload = () => resolve(paths[lib]);\n",
       "        s.onerror = () => reject(`Error loading script: ${paths[lib]}`);\n",
       "        document.getElementsByTagName(\"head\")[0].appendChild(s);\n",
       "      });\n",
       "    }\n",
       "\n",
       "    function showError(err) {\n",
       "      outputDiv.innerHTML = `<div class=\"error\" style=\"color:red;\">${err}</div>`;\n",
       "      throw err;\n",
       "    }\n",
       "\n",
       "    function displayChart(vegaEmbed) {\n",
       "      vegaEmbed(outputDiv, spec, embedOpt)\n",
       "        .catch(err => showError(`Javascript Error: ${err.message}<br>This usually means there's a typo in your chart specification. See the javascript console for the full traceback.`));\n",
       "    }\n",
       "\n",
       "    if(typeof define === \"function\" && define.amd) {\n",
       "      requirejs.config({paths});\n",
       "      require([\"vega-embed\"], displayChart, err => showError(`Error loading script: ${err.message}`));\n",
       "    } else if (typeof vegaEmbed === \"function\") {\n",
       "      displayChart(vegaEmbed);\n",
       "    } else {\n",
       "      loadScript(\"vega\")\n",
       "        .then(() => loadScript(\"vega-lite\"))\n",
       "        .then(() => loadScript(\"vega-embed\"))\n",
       "        .catch(showError)\n",
       "        .then(() => displayChart(vegaEmbed));\n",
       "    }\n",
       "  })({\"config\": {\"view\": {\"continuousWidth\": 400, \"continuousHeight\": 300}, \"title\": {\"fontSize\": 20}}, \"hconcat\": [{\"layer\": [{\"mark\": \"point\", \"encoding\": {\"color\": {\"type\": \"nominal\", \"field\": \"particle\"}, \"size\": {\"value\": 1}, \"tooltip\": [{\"type\": \"temporal\", \"field\": \"ts\", \"timeUnit\": \"monthdate\"}, {\"type\": \"temporal\", \"field\": \"ts\", \"timeUnit\": \"hoursminutes\"}, {\"type\": \"nominal\", \"field\": \"particle\"}, {\"type\": \"quantitative\", \"field\": \"value\"}], \"x\": {\"type\": \"temporal\", \"field\": \"ts\", \"title\": \"date\"}, \"y\": {\"type\": \"quantitative\", \"axis\": {\"title\": \"particle count\"}, \"field\": \"value\", \"scale\": {\"domain\": [0, 100]}}}, \"height\": 500, \"selection\": {\"selector002\": {\"type\": \"interval\", \"bind\": \"scales\", \"encodings\": [\"x\", \"y\"]}}, \"title\": \"@juvisy last 48H\", \"transform\": [{\"filter\": {\"selection\": \"selector001\"}}], \"width\": 800}, {\"mark\": \"line\", \"encoding\": {\"color\": {\"type\": \"nominal\", \"field\": \"particle\"}, \"size\": {\"value\": 3}, \"strokeDash\": {\"type\": \"nominal\", \"field\": \"particle\"}, \"x\": {\"type\": \"temporal\", \"field\": \"ts\"}, \"y\": {\"type\": \"quantitative\", \"field\": \"moving_avg\"}}, \"transform\": [{\"window\": [{\"op\": \"mean\", \"field\": \"value\", \"as\": \"moving_avg\"}], \"frame\": [-3, 2], \"groupby\": [\"particle\"], \"sort\": [{\"field\": \"ts\", \"order\": \"ascending\"}]}, {\"filter\": {\"selection\": \"selector001\"}}]}, {\"data\": {\"url\": \"data-juvisy-48H-previous.json\"}, \"mark\": {\"type\": \"line\", \"opacity\": 0.3}, \"encoding\": {\"color\": {\"type\": \"nominal\", \"field\": \"particle\"}, \"size\": {\"value\": 3}, \"strokeDash\": {\"type\": \"nominal\", \"field\": \"particle\"}, \"x\": {\"type\": \"temporal\", \"field\": \"ts\"}, \"y\": {\"type\": \"quantitative\", \"field\": \"moving_avg\"}}, \"transform\": [{\"window\": [{\"op\": \"mean\", \"field\": \"value\", \"as\": \"moving_avg\"}], \"frame\": [-3, 2], \"groupby\": [\"particle\"], \"sort\": [{\"field\": \"ts\", \"order\": \"ascending\"}]}, {\"filter\": {\"selection\": \"selector001\"}}]}]}, {\"mark\": \"rect\", \"encoding\": {\"color\": {\"condition\": {\"type\": \"nominal\", \"field\": \"particle\", \"legend\": null, \"selection\": \"selector001\"}, \"value\": \"lightgray\"}, \"size\": {\"value\": 250}, \"y\": {\"type\": \"nominal\", \"axis\": {\"title\": \"Particle type\"}, \"field\": \"particle\"}}, \"selection\": {\"selector001\": {\"type\": \"multi\", \"encodings\": [\"color\"]}}}], \"data\": {\"url\": \"data-juvisy-48H.json\"}, \"$schema\": \"https://vega.github.io/schema/vega-lite/v4.8.1.json\"}, {\"mode\": \"vega-lite\"});\n",
       "</script>"
      ],
      "text/plain": [
       "alt.HConcatChart(...)"
      ]
     },
     "execution_count": 15,
     "metadata": {},
     "output_type": "execute_result"
    }
   ],
   "source": [
    "print_graph('48H', 48)"
   ]
  },
  {
   "cell_type": "code",
   "execution_count": 16,
   "metadata": {},
   "outputs": [
    {
     "ename": "AmbiguousTimeError",
     "evalue": "2020-10-25 02:02:47.578000",
     "output_type": "error",
     "traceback": [
      "\u001B[0;31m---------------------------------------------------------------------------\u001B[0m",
      "\u001B[0;31mAmbiguousTimeError\u001B[0m                        Traceback (most recent call last)",
      "\u001B[0;32m<ipython-input-16-78566feaf667>\u001B[0m in \u001B[0;36m<module>\u001B[0;34m\u001B[0m\n\u001B[0;32m----> 1\u001B[0;31m \u001B[0mprint_graph\u001B[0m\u001B[0;34m(\u001B[0m\u001B[0;34m'month'\u001B[0m\u001B[0;34m,\u001B[0m \u001B[0;36m24\u001B[0m\u001B[0;34m*\u001B[0m\u001B[0;36m30\u001B[0m\u001B[0;34m)\u001B[0m\u001B[0;34m\u001B[0m\u001B[0;34m\u001B[0m\u001B[0m\n\u001B[0m",
      "\u001B[0;32m<ipython-input-14-3baca522163e>\u001B[0m in \u001B[0;36mprint_graph\u001B[0;34m(graph_type, hours)\u001B[0m\n\u001B[1;32m     22\u001B[0m \u001B[0;34m\u001B[0m\u001B[0m\n\u001B[1;32m     23\u001B[0m         \u001B[0mdata\u001B[0m\u001B[0;34m.\u001B[0m\u001B[0mts\u001B[0m \u001B[0;34m=\u001B[0m \u001B[0mdata\u001B[0m\u001B[0;34m.\u001B[0m\u001B[0mts\u001B[0m\u001B[0;34m.\u001B[0m\u001B[0mdt\u001B[0m\u001B[0;34m.\u001B[0m\u001B[0mtz_localize\u001B[0m\u001B[0;34m(\u001B[0m\u001B[0mtimezone\u001B[0m\u001B[0;34m,\u001B[0m \u001B[0mambiguous\u001B[0m\u001B[0;34m=\u001B[0m\u001B[0;34m'infer'\u001B[0m\u001B[0;34m)\u001B[0m\u001B[0;34m\u001B[0m\u001B[0;34m\u001B[0m\u001B[0m\n\u001B[0;32m---> 24\u001B[0;31m         \u001B[0mprevious_data\u001B[0m\u001B[0;34m.\u001B[0m\u001B[0mts\u001B[0m \u001B[0;34m=\u001B[0m \u001B[0mprevious_data\u001B[0m\u001B[0;34m.\u001B[0m\u001B[0mts\u001B[0m\u001B[0;34m.\u001B[0m\u001B[0mdt\u001B[0m\u001B[0;34m.\u001B[0m\u001B[0mtz_localize\u001B[0m\u001B[0;34m(\u001B[0m\u001B[0mtimezone\u001B[0m\u001B[0;34m,\u001B[0m \u001B[0mambiguous\u001B[0m\u001B[0;34m=\u001B[0m\u001B[0;34m'infer'\u001B[0m\u001B[0;34m)\u001B[0m\u001B[0;34m\u001B[0m\u001B[0;34m\u001B[0m\u001B[0m\n\u001B[0m\u001B[1;32m     25\u001B[0m \u001B[0;34m\u001B[0m\u001B[0m\n\u001B[1;32m     26\u001B[0m \u001B[0;34m\u001B[0m\u001B[0m\n",
      "\u001B[0;32m~/dev/iot/airquality-sender/venv/lib/python3.6/site-packages/pandas/core/accessor.py\u001B[0m in \u001B[0;36mf\u001B[0;34m(self, *args, **kwargs)\u001B[0m\n\u001B[1;32m     97\u001B[0m         \u001B[0;32mdef\u001B[0m \u001B[0m_create_delegator_method\u001B[0m\u001B[0;34m(\u001B[0m\u001B[0mname\u001B[0m\u001B[0;34m)\u001B[0m\u001B[0;34m:\u001B[0m\u001B[0;34m\u001B[0m\u001B[0;34m\u001B[0m\u001B[0m\n\u001B[1;32m     98\u001B[0m             \u001B[0;32mdef\u001B[0m \u001B[0mf\u001B[0m\u001B[0;34m(\u001B[0m\u001B[0mself\u001B[0m\u001B[0;34m,\u001B[0m \u001B[0;34m*\u001B[0m\u001B[0margs\u001B[0m\u001B[0;34m,\u001B[0m \u001B[0;34m**\u001B[0m\u001B[0mkwargs\u001B[0m\u001B[0;34m)\u001B[0m\u001B[0;34m:\u001B[0m\u001B[0;34m\u001B[0m\u001B[0;34m\u001B[0m\u001B[0m\n\u001B[0;32m---> 99\u001B[0;31m                 \u001B[0;32mreturn\u001B[0m \u001B[0mself\u001B[0m\u001B[0;34m.\u001B[0m\u001B[0m_delegate_method\u001B[0m\u001B[0;34m(\u001B[0m\u001B[0mname\u001B[0m\u001B[0;34m,\u001B[0m \u001B[0;34m*\u001B[0m\u001B[0margs\u001B[0m\u001B[0;34m,\u001B[0m \u001B[0;34m**\u001B[0m\u001B[0mkwargs\u001B[0m\u001B[0;34m)\u001B[0m\u001B[0;34m\u001B[0m\u001B[0;34m\u001B[0m\u001B[0m\n\u001B[0m\u001B[1;32m    100\u001B[0m \u001B[0;34m\u001B[0m\u001B[0m\n\u001B[1;32m    101\u001B[0m             \u001B[0mf\u001B[0m\u001B[0;34m.\u001B[0m\u001B[0m__name__\u001B[0m \u001B[0;34m=\u001B[0m \u001B[0mname\u001B[0m\u001B[0;34m\u001B[0m\u001B[0;34m\u001B[0m\u001B[0m\n",
      "\u001B[0;32m~/dev/iot/airquality-sender/venv/lib/python3.6/site-packages/pandas/core/indexes/accessors.py\u001B[0m in \u001B[0;36m_delegate_method\u001B[0;34m(self, name, *args, **kwargs)\u001B[0m\n\u001B[1;32m    102\u001B[0m \u001B[0;34m\u001B[0m\u001B[0m\n\u001B[1;32m    103\u001B[0m         \u001B[0mmethod\u001B[0m \u001B[0;34m=\u001B[0m \u001B[0mgetattr\u001B[0m\u001B[0;34m(\u001B[0m\u001B[0mvalues\u001B[0m\u001B[0;34m,\u001B[0m \u001B[0mname\u001B[0m\u001B[0;34m)\u001B[0m\u001B[0;34m\u001B[0m\u001B[0;34m\u001B[0m\u001B[0m\n\u001B[0;32m--> 104\u001B[0;31m         \u001B[0mresult\u001B[0m \u001B[0;34m=\u001B[0m \u001B[0mmethod\u001B[0m\u001B[0;34m(\u001B[0m\u001B[0;34m*\u001B[0m\u001B[0margs\u001B[0m\u001B[0;34m,\u001B[0m \u001B[0;34m**\u001B[0m\u001B[0mkwargs\u001B[0m\u001B[0;34m)\u001B[0m\u001B[0;34m\u001B[0m\u001B[0;34m\u001B[0m\u001B[0m\n\u001B[0m\u001B[1;32m    105\u001B[0m \u001B[0;34m\u001B[0m\u001B[0m\n\u001B[1;32m    106\u001B[0m         \u001B[0;32mif\u001B[0m \u001B[0;32mnot\u001B[0m \u001B[0mis_list_like\u001B[0m\u001B[0;34m(\u001B[0m\u001B[0mresult\u001B[0m\u001B[0;34m)\u001B[0m\u001B[0;34m:\u001B[0m\u001B[0;34m\u001B[0m\u001B[0;34m\u001B[0m\u001B[0m\n",
      "\u001B[0;32m~/dev/iot/airquality-sender/venv/lib/python3.6/site-packages/pandas/core/indexes/datetimes.py\u001B[0m in \u001B[0;36mtz_localize\u001B[0;34m(self, tz, ambiguous, nonexistent)\u001B[0m\n\u001B[1;32m    233\u001B[0m         \u001B[0mself\u001B[0m\u001B[0;34m,\u001B[0m \u001B[0mtz\u001B[0m\u001B[0;34m,\u001B[0m \u001B[0mambiguous\u001B[0m\u001B[0;34m=\u001B[0m\u001B[0;34m\"raise\"\u001B[0m\u001B[0;34m,\u001B[0m \u001B[0mnonexistent\u001B[0m\u001B[0;34m=\u001B[0m\u001B[0;34m\"raise\"\u001B[0m\u001B[0;34m\u001B[0m\u001B[0;34m\u001B[0m\u001B[0m\n\u001B[1;32m    234\u001B[0m     ) -> \"DatetimeIndex\":\n\u001B[0;32m--> 235\u001B[0;31m         \u001B[0marr\u001B[0m \u001B[0;34m=\u001B[0m \u001B[0mself\u001B[0m\u001B[0;34m.\u001B[0m\u001B[0m_data\u001B[0m\u001B[0;34m.\u001B[0m\u001B[0mtz_localize\u001B[0m\u001B[0;34m(\u001B[0m\u001B[0mtz\u001B[0m\u001B[0;34m,\u001B[0m \u001B[0mambiguous\u001B[0m\u001B[0;34m,\u001B[0m \u001B[0mnonexistent\u001B[0m\u001B[0;34m)\u001B[0m\u001B[0;34m\u001B[0m\u001B[0;34m\u001B[0m\u001B[0m\n\u001B[0m\u001B[1;32m    236\u001B[0m         \u001B[0;32mreturn\u001B[0m \u001B[0mtype\u001B[0m\u001B[0;34m(\u001B[0m\u001B[0mself\u001B[0m\u001B[0;34m)\u001B[0m\u001B[0;34m.\u001B[0m\u001B[0m_simple_new\u001B[0m\u001B[0;34m(\u001B[0m\u001B[0marr\u001B[0m\u001B[0;34m,\u001B[0m \u001B[0mname\u001B[0m\u001B[0;34m=\u001B[0m\u001B[0mself\u001B[0m\u001B[0;34m.\u001B[0m\u001B[0mname\u001B[0m\u001B[0;34m)\u001B[0m\u001B[0;34m\u001B[0m\u001B[0;34m\u001B[0m\u001B[0m\n\u001B[1;32m    237\u001B[0m \u001B[0;34m\u001B[0m\u001B[0m\n",
      "\u001B[0;32m~/dev/iot/airquality-sender/venv/lib/python3.6/site-packages/pandas/core/arrays/datetimes.py\u001B[0m in \u001B[0;36mtz_localize\u001B[0;34m(self, tz, ambiguous, nonexistent)\u001B[0m\n\u001B[1;32m    969\u001B[0m \u001B[0;34m\u001B[0m\u001B[0m\n\u001B[1;32m    970\u001B[0m             new_dates = tzconversion.tz_localize_to_utc(\n\u001B[0;32m--> 971\u001B[0;31m                 \u001B[0mself\u001B[0m\u001B[0;34m.\u001B[0m\u001B[0masi8\u001B[0m\u001B[0;34m,\u001B[0m \u001B[0mtz\u001B[0m\u001B[0;34m,\u001B[0m \u001B[0mambiguous\u001B[0m\u001B[0;34m=\u001B[0m\u001B[0mambiguous\u001B[0m\u001B[0;34m,\u001B[0m \u001B[0mnonexistent\u001B[0m\u001B[0;34m=\u001B[0m\u001B[0mnonexistent\u001B[0m\u001B[0;34m\u001B[0m\u001B[0;34m\u001B[0m\u001B[0m\n\u001B[0m\u001B[1;32m    972\u001B[0m             )\n\u001B[1;32m    973\u001B[0m         \u001B[0mnew_dates\u001B[0m \u001B[0;34m=\u001B[0m \u001B[0mnew_dates\u001B[0m\u001B[0;34m.\u001B[0m\u001B[0mview\u001B[0m\u001B[0;34m(\u001B[0m\u001B[0mDT64NS_DTYPE\u001B[0m\u001B[0;34m)\u001B[0m\u001B[0;34m\u001B[0m\u001B[0;34m\u001B[0m\u001B[0m\n",
      "\u001B[0;32mpandas/_libs/tslibs/tzconversion.pyx\u001B[0m in \u001B[0;36mpandas._libs.tslibs.tzconversion.tz_localize_to_utc\u001B[0;34m()\u001B[0m\n",
      "\u001B[0;31mAmbiguousTimeError\u001B[0m: 2020-10-25 02:02:47.578000"
     ]
    }
   ],
   "source": [
    "print_graph('month', 24*30)"
   ]
  },
  {
   "cell_type": "code",
   "execution_count": null,
   "metadata": {},
   "outputs": [],
   "source": [
    "print_graph('year', 24*30)"
   ]
  }
 ],
 "metadata": {
  "celltoolbar": "Diaporama",
  "kernelspec": {
   "display_name": "Python 3",
   "language": "python",
   "name": "python3"
  },
  "language_info": {
   "codemirror_mode": {
    "name": "ipython",
    "version": 3
   },
   "file_extension": ".py",
   "mimetype": "text/x-python",
   "name": "python",
   "nbconvert_exporter": "python",
   "pygments_lexer": "ipython3",
   "version": "3.6.9"
  }
 },
 "nbformat": 4,
 "nbformat_minor": 2
}