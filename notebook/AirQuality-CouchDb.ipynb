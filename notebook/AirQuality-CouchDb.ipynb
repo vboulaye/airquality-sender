{
 "cells": [
  {
   "cell_type": "code",
   "execution_count": 1,
   "metadata": {},
   "outputs": [],
   "source": [
    "import pandas as pd\n",
    "import numpy as np\n",
    "import matplotlib.pyplot as plt\n",
    "import json\n",
    "import requests\n",
    "from scipy import stats\n",
    "import os, datetime\n",
    "%matplotlib inline\n",
    "import altair as alt\n",
    "from requests.auth import HTTPBasicAuth\n"
   ]
  },
  {
   "cell_type": "code",
   "execution_count": 2,
   "metadata": {
    "tags": [
     "parameters"
    ]
   },
   "outputs": [
    {
     "name": "stdout",
     "output_type": "stream",
     "text": [
      "configuration loaded\n"
     ]
    }
   ],
   "source": [
    "try:\n",
    "    with open(\"airquality-config.json\") as f:\n",
    "        data = json.load(f)\n",
    "        location = data['location']\n",
    "        timezone = data['timezone']\n",
    "except:\n",
    "    print(\"###\")\n",
    "    print(\"###\")\n",
    "    print(\"###\")\n",
    "    print('### to run the notebook locally, setup an airquality-config.json file from the example')\n",
    "    print(\"###\")\n",
    "    print(\"###\")\n",
    "    print(\"###\")\n",
    "\n",
    "print(\"configuration loaded\")"
   ]
  },
  {
   "cell_type": "code",
   "execution_count": 3,
   "metadata": {},
   "outputs": [
    {
     "name": "stdout",
     "output_type": "stream",
     "text": [
      "loading secrets from airquality-secrets.json\n"
     ]
    }
   ],
   "source": [
    "try:\n",
    "    secrets_path=secretsPath\n",
    "except:\n",
    "    secrets_path='airquality-secrets.json'\n",
    "\n",
    "print(\"loading secrets from \"+secrets_path)"
   ]
  },
  {
   "cell_type": "code",
   "execution_count": 4,
   "metadata": {},
   "outputs": [
    {
     "name": "stdout",
     "output_type": "stream",
     "text": [
      "secrets loaded\n"
     ]
    }
   ],
   "source": [
    "\n",
    "try:\n",
    "    with open(secrets_path) as f:\n",
    "        data = json.load(f)\n",
    "        url = data['couchdb_url']\n",
    "        database = data['couchdb_database']\n",
    "        couchdb_username = data['couchdb_username']\n",
    "        couchdb_password = data['couchdb_password']\n",
    "except:\n",
    "    print(\"###\")\n",
    "    print(\"###\")\n",
    "    print(\"###\")\n",
    "    print('### to run the notebook locally, setup an '+secrets_path+' file from the example')\n",
    "    print(\"###\")\n",
    "    print(\"###\")\n",
    "    print(\"###\")\n",
    "\n",
    "print(\"secrets loaded\")"
   ]
  },
  {
   "cell_type": "code",
   "execution_count": 5,
   "metadata": {},
   "outputs": [
    {
     "name": "stdout",
     "output_type": "stream",
     "text": [
      "running with the following parameters:\n",
      "- database: air-quality-villiers\n",
      "- url: https://vps.vboof.space/db\n",
      "- couchdb_password (length): 8\n"
     ]
    }
   ],
   "source": [
    "print(\"running with the following parameters:\")\n",
    "print(\"- database: \"+database)\n",
    "print(\"- url: \"+url)\n",
    "print(\"- couchdb_password (length): \"+str(len(couchdb_password)))\n"
   ]
  },
  {
   "cell_type": "code",
   "execution_count": 6,
   "metadata": {},
   "outputs": [
    {
     "name": "stdout",
     "output_type": "stream",
     "text": [
      "calling: https://vps.vboof.space/db/air-quality-villiers/_find\n",
      "size of the loaded json: 3.4736328125K\n"
     ]
    }
   ],
   "source": [
    "\n",
    "\n",
    "query=url+'/'+database+'/_find'\n",
    "print (\"calling: \" +query)\n",
    "\n",
    "r = requests.post(query,\n",
    "                 headers = {\"content-type\":\"application/json\"},\n",
    "                 auth = HTTPBasicAuth(couchdb_username, couchdb_password),\n",
    "                 data = '{\"selector\":{\"_id\":{\"$gte\":\"2021\"}},\"fields\":[\"ts\",\"pm_1_0\",\"pm_2_5\",\"pm_10_0\"],\"limit\":3000,\"skip\":0}',\n",
    "                 timeout = 10\n",
    "                 )\n",
    "\n",
    "json_content = r.json()\n",
    "print (\"size of the loaded json: \" +str(len(json.dumps(json_content))/1024) +\"K\")\n",
    "#print(json.dumps(json_content, indent=2))"
   ]
  },
  {
   "cell_type": "code",
   "execution_count": 12,
   "metadata": {},
   "outputs": [
    {
     "name": "stdout",
     "output_type": "stream",
     "text": [
      "                    ts  pm_1_0  pm_2_5  pm_10_0\n",
      "41 2021-04-24 19:25:58       5       8        8\n",
      "42 2021-04-24 19:32:18       5       8        8\n",
      "43 2021-04-24 19:38:38       5       7        8\n",
      "44 2021-04-24 19:44:58       3       5        6\n",
      "45 2021-04-24 19:51:20       3       7        7\n"
     ]
    }
   ],
   "source": [
    "\n",
    "data = []\n",
    "for row in json_content['docs']:\n",
    "    # print(row)\n",
    "    if 'ts' in row:\n",
    "        row['ts'] = pd.to_datetime( row['ts'],  errors='coerce')\n",
    "        if row['ts'] != 'NaT':\n",
    "            data.append( row)\n",
    "\n",
    "#     for month in json_content[year]:\n",
    "#         #print(month)\n",
    "#         for day in json_content[year][month]:\n",
    "#             #print(day)\n",
    "#             for measure in json_content[year][month][day]:\n",
    "#                 #print(measure)\n",
    "#                 data.append( json_content[year][month][day][measure])\n",
    "\n",
    "data = sorted(data, key=lambda d: d['ts'])\n",
    "#print(json.dumps(data, indent=2))\n",
    "print(pd.DataFrame(data).tail())"
   ]
  },
  {
   "cell_type": "code",
   "execution_count": 13,
   "metadata": {},
   "outputs": [
    {
     "name": "stdout",
     "output_type": "stream",
     "text": [
      "                           pm_1_0  pm_2_5  pm_10_0\n",
      "ts                                                \n",
      "2021-04-24 19:25:58+02:00       5       8        8\n",
      "2021-04-24 19:32:18+02:00       5       8        8\n",
      "2021-04-24 19:38:38+02:00       5       7        8\n",
      "2021-04-24 19:44:58+02:00       3       5        6\n",
      "2021-04-24 19:51:20+02:00       3       7        7\n"
     ]
    }
   ],
   "source": [
    "\n",
    "#df = pd.read_json( json.dumps(json_content), orient='index', convert_dates=['ts'], date_unit='ms')\n",
    "#df = pd.read_json( json.dumps(data),  convert_dates=['ts'])\n",
    "#df = pd.read_json( json.dumps(data))\n",
    "df=pd.DataFrame(data)\n",
    "#df.ts = df.index.tz_localize('GMT', ambiguous='NaT')\n",
    "#df.ts.dt.tz_localize('GMT', ambiguous='NaT').tz_convert('America/New_York')\n",
    "\n",
    "\n",
    "df = df.set_index('ts')\n",
    "#df.index = df.index.tz_localize('UTC', ambiguous='NaT').tz_convert(timezone)\n",
    "df.index = df.index.tz_localize(timezone, ambiguous='NaT')\n",
    "\n",
    "print(df.tail())\n"
   ]
  },
  {
   "cell_type": "code",
   "execution_count": 14,
   "metadata": {},
   "outputs": [
    {
     "data": {
      "text/plain": [
       "7.9"
      ]
     },
     "execution_count": 14,
     "metadata": {},
     "output_type": "execute_result"
    }
   ],
   "source": [
    "df.pm_2_5.tail(10).mean()"
   ]
  },
  {
   "cell_type": "code",
   "execution_count": 15,
   "metadata": {},
   "outputs": [
    {
     "data": {
      "text/plain": [
       "7.758498124421518"
      ]
     },
     "execution_count": 15,
     "metadata": {},
     "output_type": "execute_result"
    }
   ],
   "source": [
    "stats.gmean(df[df.pm_2_5>0].pm_2_5.tail(10))"
   ]
  },
  {
   "cell_type": "code",
   "execution_count": 16,
   "metadata": {},
   "outputs": [
    {
     "data": {
      "text/plain": [
       "<AxesSubplot:xlabel='ts'>"
      ]
     },
     "execution_count": 16,
     "metadata": {},
     "output_type": "execute_result"
    },
    {
     "data": {
      "image/png": "[encoded data removed]",
      "text/plain": [
       "<Figure size 432x288 with 1 Axes>"
      ]
     },
     "metadata": {
      "needs_background": "light"
     },
     "output_type": "display_data"
    }
   ],
   "source": [
    "df.groupby([df.index.strftime('%y%m%d %H')]).pm_2_5.median().plot()"
   ]
  },
  {
   "cell_type": "code",
   "execution_count": null,
   "metadata": {},
   "outputs": [],
   "source": [
    "df.pm_1_0.rolling(10).mean().plot()\n",
    "df.pm_2_5.rolling(10).mean().plot()\n",
    "df.pm_10_0.rolling(10).mean().plot()\n"
   ]
  },
  {
   "cell_type": "code",
   "execution_count": null,
   "metadata": {},
   "outputs": [],
   "source": [
    "import tempfile\n",
    "\n",
    "try:\n",
    "    output_dir = os.environ['GITHUB_WORKSPACE'] + '/output'\n",
    "except KeyError:\n",
    "    output_dir = tempfile.gettempdir()+'/jupyter/airquality'\n",
    "\n",
    "if not os.path.exists(output_dir):\n",
    "    os.makedirs(output_dir)\n",
    "\n",
    "print('saving chart in '+output_dir)\n"
   ]
  },
  {
   "cell_type": "code",
   "execution_count": null,
   "metadata": {
    "slideshow": {
     "slide_type": "slide"
    }
   },
   "outputs": [],
   "source": [
    "#alt.data_transformers.enable('json')\n",
    "\n",
    "#convert data to the better format for altair (ts,pm_1_0,pm_2_5, pm_10_0) => (ts,particle,value)\n",
    "long_form_data=df.reset_index().melt('ts', var_name='particle', value_name='value')\n",
    "\n",
    "def print_graph(graph_type, hours):\n",
    "\n",
    "    data=long_form_data\n",
    "\n",
    "    previous_data = data\n",
    "\n",
    "    if hours>0:\n",
    "        data.ts = data.ts.dt.tz_localize(None, ambiguous='NaT')\n",
    "        delta=datetime.timedelta(hours=hours)\n",
    "        date_before = datetime.datetime.now() - delta\n",
    "        data=data[data.ts.between(date_before, datetime.datetime.now())].copy()\n",
    "\n",
    "\n",
    "        previous_data = long_form_data.copy()\n",
    "        previous_data.ts = previous_data.ts + delta\n",
    "        previous_data=previous_data[previous_data.ts.between(date_before, datetime.datetime.now())]\n",
    "\n",
    "        data.ts = data.ts.dt.tz_localize(timezone, ambiguous='NaT')\n",
    "        previous_data.ts = previous_data.ts.dt.tz_localize(timezone, ambiguous='NaT')\n",
    "\n",
    "\n",
    "    max_value = max( data.value.max(), previous_data.value.max())\n",
    "    data['max_value'] = max_value\n",
    "\n",
    "    # save the data locally for display inside jupyer, the html graph will reference this 'local' json\n",
    "    url = 'data-' + location + '-' + graph_type + '.json'\n",
    "    data.to_json(url, orient='records')\n",
    "\n",
    "    previous_url = 'data-' + location + '-' + graph_type + '-previous.json'\n",
    "    previous_data.to_json(previous_url, orient='records')\n",
    "\n",
    "    click = alt.selection_multi(encodings=['color'])\n",
    "\n",
    "    points = alt.Chart(url).mark_point().encode(\n",
    "        alt.X('ts:T', title='date'),\n",
    "        y=alt.Y('value:Q',\n",
    "                scale=alt.Scale(domain=(0,max(100, max_value))),\n",
    "                axis=alt.Axis(title='particle count')),\n",
    "        color='particle:N',\n",
    "        size=alt.value(1),\n",
    "        tooltip=['monthdate(ts):T','hoursminutes(ts):T','particle:N','value:Q'],\n",
    "    ).properties(\n",
    "        title='@'+location+' last '+graph_type,\n",
    "        width=800,\n",
    "        height=500\n",
    "    ).transform_filter(\n",
    "        click\n",
    "    ).interactive()\n",
    "\n",
    "    line = alt.Chart(url).mark_line().encode(\n",
    "      x='ts:T',\n",
    "      y='value:Q',\n",
    "      color='particle:N',\n",
    "      strokeDash='particle:N',\n",
    "      size=alt.value(3),\n",
    "    ).transform_window(\n",
    "        moving_avg='mean(value)',\n",
    "        frame=[-3, 2],\n",
    "        sort=[alt.SortField(\"ts\",\"ascending\")],\n",
    "        groupby=['particle']\n",
    "    ).encode(\n",
    "        x='ts:T',\n",
    "        y='moving_avg:Q'\n",
    "    ).transform_filter(\n",
    "        click\n",
    "    )\n",
    "\n",
    "\n",
    "    if hours>0:\n",
    "        previous_line = alt.Chart(previous_url).mark_line(opacity=0.3).encode(\n",
    "          x='ts:T',\n",
    "          y='value:Q',\n",
    "          color='particle:N',\n",
    "          strokeDash='particle:N',\n",
    "          size=alt.value(3),\n",
    "        ).transform_window(\n",
    "            moving_avg='mean(value)',\n",
    "            frame=[-3, 2],\n",
    "            sort=[alt.SortField(\"ts\",\"ascending\")],\n",
    "            groupby=['particle']\n",
    "        ).encode(\n",
    "            x='ts:T',\n",
    "            y='moving_avg:Q'\n",
    "        ).transform_filter(\n",
    "            click\n",
    "        )\n",
    "\n",
    "        #waiting for https://github.com/vega/vega/issues/2365\n",
    "#     print (max_value/1000.0)\n",
    "#     area = alt.Chart(url).mark_area(\n",
    "#         opacity=0.5,\n",
    "#         color=alt.Gradient(\n",
    "#             gradient='linear',\n",
    "#             stops=[\n",
    "#                    alt.GradientStop(color='#009966', offset=0.001),\n",
    "#                    alt.GradientStop(color='#ffde33', offset=0.050),\n",
    "#                    alt.GradientStop(color='#ff9933', offset=0.100),\n",
    "#                    alt.GradientStop(color='#e81111', offset=0.150),\n",
    "#                    alt.GradientStop(color='#660099', offset=0.200),\n",
    "#                    alt.GradientStop(color='#7e0023', offset=0.300),\n",
    "#                   ],\n",
    "#             x1=0,\n",
    "#             x2=0,\n",
    "#             y1=max_value/1000.0,\n",
    "#             y2=0\n",
    "#         )\n",
    "#       ).encode(\n",
    "#         x='ts:T',\n",
    "#         y='max_value:Q',\n",
    "#     )\n",
    "\n",
    "    legend = alt.Chart(url).mark_rect().encode(\n",
    "        y=alt.Y('particle:N', axis=alt.Axis(title='Particle type')),\n",
    "        color=alt.condition(click, 'particle:N',\n",
    "                            alt.value('lightgray'),\n",
    "                            legend=None),\n",
    "        size=alt.value(250)\n",
    "    ).properties(\n",
    "        selection=click\n",
    "    )\n",
    "\n",
    "\n",
    "    if hours>0:\n",
    "        chart = (points +line + previous_line) | legend\n",
    "    else:\n",
    "        chart = (points + line) | legend\n",
    "\n",
    "    chart = chart.configure_title(\n",
    "        fontSize=20,\n",
    "    )\n",
    "\n",
    "\n",
    "    if hours>0:\n",
    "        previous_data.to_json(output_dir+'/'+previous_url, orient='records')\n",
    "    json_file=output_dir+'/'+url\n",
    "    print(\"saving data to \" + json_file)\n",
    "    data.to_json(json_file, orient='records')\n",
    "    graph_file=output_dir+'/airquality-'+location+'-'+graph_type+'.html'\n",
    "    print(\"saving graph to \" + graph_file)\n",
    "    chart.save(graph_file)\n",
    "\n",
    "    return chart\n",
    "\n"
   ]
  },
  {
   "cell_type": "code",
   "execution_count": null,
   "metadata": {
    "scrolled": true
   },
   "outputs": [],
   "source": [
    "print_graph('48H', 48)"
   ]
  },
  {
   "cell_type": "code",
   "execution_count": null,
   "metadata": {},
   "outputs": [],
   "source": [
    "print_graph('month', 24*30)"
   ]
  },
  {
   "cell_type": "code",
   "execution_count": null,
   "metadata": {},
   "outputs": [],
   "source": [
    "print_graph('year', 24*30)"
   ]
  }
 ],
 "metadata": {
  "celltoolbar": "Diaporama",
  "kernelspec": {
   "display_name": "Python 3",
   "language": "python",
   "name": "python3"
  },
  "language_info": {
   "codemirror_mode": {
    "name": "ipython",
    "version": 3
   },
   "file_extension": ".py",
   "mimetype": "text/x-python",
   "name": "python",
   "nbconvert_exporter": "python",
   "pygments_lexer": "ipython3",
   "version": "3.8.5"
  }
 },
 "nbformat": 4,
 "nbformat_minor": 2
}
