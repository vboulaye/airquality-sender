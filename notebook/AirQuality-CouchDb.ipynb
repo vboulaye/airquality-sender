{
 "cells": [
  {
   "cell_type": "code",
   "execution_count": 45,
   "metadata": {},
   "outputs": [],
   "source": [
    "import pandas as pd\n",
    "import numpy as np\n",
    "import matplotlib.pyplot as plt\n",
    "import json\n",
    "import requests\n",
    "from scipy import stats\n",
    "import os, datetime\n",
    "%matplotlib inline\n",
    "import altair as alt\n",
    "from requests.auth import HTTPBasicAuth\n"
   ]
  },
  {
   "cell_type": "code",
   "execution_count": 46,
   "metadata": {
    "tags": [
     "parameters"
    ]
   },
   "outputs": [
    {
     "name": "stdout",
     "output_type": "stream",
     "text": [
      "configuration loaded\n"
     ]
    }
   ],
   "source": [
    "try:\n",
    "    with open(\"airquality-config.json\") as f:\n",
    "        data = json.load(f)\n",
    "        location = data['location']\n",
    "        timezone = data['timezone']\n",
    "except:\n",
    "    print(\"###\")\n",
    "    print(\"###\")\n",
    "    print(\"###\")\n",
    "    print('### to run the notebook locally, setup an airquality-config.json file from the example')\n",
    "    print(\"###\")\n",
    "    print(\"###\")\n",
    "    print(\"###\")\n",
    "\n",
    "print(\"configuration loaded\")"
   ]
  },
  {
   "cell_type": "code",
   "execution_count": 47,
   "metadata": {},
   "outputs": [
    {
     "name": "stdout",
     "output_type": "stream",
     "text": [
      "loading secrets from airquality-secrets.json\n"
     ]
    }
   ],
   "source": [
    "try:\n",
    "    secrets_path=secretsPath\n",
    "except:\n",
    "    secrets_path='airquality-secrets.json'\n",
    "\n",
    "print(\"loading secrets from \"+secrets_path)"
   ]
  },
  {
   "cell_type": "code",
   "execution_count": 48,
   "metadata": {},
   "outputs": [
    {
     "name": "stdout",
     "output_type": "stream",
     "text": [
      "secrets loaded\n"
     ]
    }
   ],
   "source": [
    "\n",
    "try:\n",
    "    with open(secrets_path) as f:\n",
    "        data = json.load(f)\n",
    "        url = data['couchdb_url']\n",
    "        database = data['couchdb_database']\n",
    "        couchdb_username = data['couchdb_username']\n",
    "        couchdb_password = data['couchdb_password']\n",
    "except:\n",
    "    print(\"###\")\n",
    "    print(\"###\")\n",
    "    print(\"###\")\n",
    "    print('### to run the notebook locally, setup an '+secrets_path+' file from the example')\n",
    "    print(\"###\")\n",
    "    print(\"###\")\n",
    "    print(\"###\")\n",
    "\n",
    "print(\"secrets loaded\")"
   ]
  },
  {
   "cell_type": "code",
   "execution_count": 49,
   "metadata": {},
   "outputs": [
    {
     "name": "stdout",
     "output_type": "stream",
     "text": [
      "running with the following parameters:\n",
      "- database: air-quality-villiers\n",
      "- url: https://vps.vboof.space/db\n",
      "- couchdb_password (length): 8\n"
     ]
    }
   ],
   "source": [
    "print(\"running with the following parameters:\")\n",
    "print(\"- database: \"+database)\n",
    "print(\"- url: \"+url)\n",
    "print(\"- couchdb_password (length): \"+str(len(couchdb_password)))\n"
   ]
  },
  {
   "cell_type": "code",
   "execution_count": 50,
   "metadata": {},
   "outputs": [
    {
     "name": "stdout",
     "output_type": "stream",
     "text": [
      "calling: https://vps.vboof.space/db/air-quality-villiers/_find\n",
      "size of the loaded json: 1.3486328125K\n"
     ]
    }
   ],
   "source": [
    "\n",
    "\n",
    "query=url+'/'+database+'/_find'\n",
    "print (\"calling: \" +query)\n",
    "\n",
    "r = requests.post(query,\n",
    "                 headers = {\"content-type\":\"application/json\"},\n",
    "                 auth = HTTPBasicAuth(couchdb_username, couchdb_password),\n",
    "                 data = '{\"selector\":{\"_id\":{\"$gte\":\"2021\"}},\"fields\":[\"ts\",\"pm_1_0\",\"pm_2_5\",\"pm_10_0\"],\"limit\":3000,\"skip\":0}',\n",
    "                 timeout = 10\n",
    "                 )\n",
    "\n",
    "json_content = r.json()\n",
    "print (\"size of the loaded json: \" +str(len(json.dumps(json_content))/1024) +\"K\")\n",
    "#print(json.dumps(json_content, indent=2))"
   ]
  },
  {
   "cell_type": "code",
   "execution_count": 51,
   "metadata": {},
   "outputs": [
    {
     "name": "stdout",
     "output_type": "stream",
     "text": [
      "                    ts  pm_1_0  pm_2_5  pm_10_0\n",
      "11 2021-03-07 13:08:44      14      24       27\n",
      "12 2021-03-07 13:32:11      11      19       20\n",
      "13 2021-03-07 13:36:25      13      21       22\n",
      "14 2021-03-07 13:42:42      12      20       22\n",
      "15 2021-03-07 13:57:08      13      19       20\n"
     ]
    }
   ],
   "source": [
    "\n",
    "data = []\n",
    "for row in json_content['docs']:\n",
    "    #print(row)\n",
    "    if 'ts' in row:\n",
    "        row['ts'] = pd.to_datetime( row['ts'])\n",
    "        data.append( row)\n",
    "\n",
    "#     for month in json_content[year]:\n",
    "#         #print(month)\n",
    "#         for day in json_content[year][month]:\n",
    "#             #print(day)\n",
    "#             for measure in json_content[year][month][day]:\n",
    "#                 #print(measure)\n",
    "#                 data.append( json_content[year][month][day][measure])\n",
    "\n",
    "data = sorted(data, key=lambda d: d['ts'])\n",
    "#print(json.dumps(data, indent=2))\n",
    "print(pd.DataFrame(data).tail())"
   ]
  },
  {
   "cell_type": "code",
   "execution_count": 52,
   "metadata": {},
   "outputs": [
    {
     "name": "stdout",
     "output_type": "stream",
     "text": [
      "                           pm_1_0  pm_2_5  pm_10_0\n",
      "ts                                                \n",
      "2021-03-07 13:08:44+01:00      14      24       27\n",
      "2021-03-07 13:32:11+01:00      11      19       20\n",
      "2021-03-07 13:36:25+01:00      13      21       22\n",
      "2021-03-07 13:42:42+01:00      12      20       22\n",
      "2021-03-07 13:57:08+01:00      13      19       20\n"
     ]
    }
   ],
   "source": [
    "\n",
    "#df = pd.read_json( json.dumps(json_content), orient='index', convert_dates=['ts'], date_unit='ms')\n",
    "#df = pd.read_json( json.dumps(data),  convert_dates=['ts'])\n",
    "#df = pd.read_json( json.dumps(data))\n",
    "df=pd.DataFrame(data)\n",
    "#df.ts = df.index.tz_localize('GMT', ambiguous='NaT')\n",
    "#df.ts.dt.tz_localize('GMT', ambiguous='NaT').tz_convert('America/New_York')\n",
    "\n",
    "\n",
    "df = df.set_index('ts')\n",
    "#df.index = df.index.tz_localize('UTC', ambiguous='NaT').tz_convert(timezone)\n",
    "df.index = df.index.tz_localize(timezone, ambiguous='NaT')\n",
    "\n",
    "print(df.tail())\n"
   ]
  },
  {
   "cell_type": "code",
   "execution_count": 53,
   "metadata": {},
   "outputs": [
    {
     "data": {
      "text/plain": "25.3"
     },
     "execution_count": 53,
     "metadata": {},
     "output_type": "execute_result"
    }
   ],
   "source": [
    "df.pm_2_5.tail(10).mean()"
   ]
  },
  {
   "cell_type": "code",
   "execution_count": 54,
   "metadata": {},
   "outputs": [
    {
     "data": {
      "text/plain": "24.79018338615855"
     },
     "execution_count": 54,
     "metadata": {},
     "output_type": "execute_result"
    }
   ],
   "source": [
    "stats.gmean(df[df.pm_2_5>0].pm_2_5.tail(10))"
   ]
  },
  {
   "cell_type": "code",
   "execution_count": 55,
   "metadata": {},
   "outputs": [
    {
     "data": {
      "text/plain": "<AxesSubplot:xlabel='ts'>"
     },
     "execution_count": 55,
     "metadata": {},
     "output_type": "execute_result"
    },
    {
     "data": {
      "text/plain": "<Figure size 432x288 with 1 Axes>",
      "image/png": "[encoded data removed]"
     },
     "metadata": {
      "needs_background": "light"
     },
     "output_type": "display_data"
    }
   ],
   "source": [
    "df.groupby([df.index.strftime('%y%m%d %H')]).pm_2_5.median().plot()"
   ]
  },
  {
   "cell_type": "code",
   "execution_count": 56,
   "metadata": {},
   "outputs": [
    {
     "data": {
      "text/plain": "<AxesSubplot:xlabel='ts'>"
     },
     "execution_count": 56,
     "metadata": {},
     "output_type": "execute_result"
    },
    {
     "data": {
      "text/plain": "<Figure size 432x288 with 1 Axes>",
      "image/png": "[encoded data removed]"
     },
     "metadata": {
      "needs_background": "light"
     },
     "output_type": "display_data"
    }
   ],
   "source": [
    "df.pm_1_0.rolling(10).mean().plot()\n",
    "df.pm_2_5.rolling(10).mean().plot()\n",
    "df.pm_10_0.rolling(10).mean().plot()\n"
   ]
  },
  {
   "cell_type": "code",
   "execution_count": 57,
   "metadata": {},
   "outputs": [
    {
     "name": "stdout",
     "output_type": "stream",
     "text": [
      "saving chart in /tmp/jupyter/airquality\n"
     ]
    }
   ],
   "source": [
    "import tempfile\n",
    "\n",
    "try:\n",
    "    output_dir = os.environ['GITHUB_WORKSPACE'] + '/output'\n",
    "except KeyError:\n",
    "    output_dir = tempfile.gettempdir()+'/jupyter/airquality'\n",
    "\n",
    "if not os.path.exists(output_dir):\n",
    "    os.makedirs(output_dir)\n",
    "\n",
    "print('saving chart in '+output_dir)\n"
   ]
  },
  {
   "cell_type": "code",
   "execution_count": 59,
   "metadata": {
    "slideshow": {
     "slide_type": "slide"
    }
   },
   "outputs": [],
   "source": [
    "#alt.data_transformers.enable('json')\n",
    "\n",
    "#convert data to the better format for altair (ts,pm_1_0,pm_2_5, pm_10_0) => (ts,particle,value)\n",
    "long_form_data=df.reset_index().melt('ts', var_name='particle', value_name='value')\n",
    "\n",
    "def print_graph(graph_type, hours):\n",
    "\n",
    "    data=long_form_data\n",
    "\n",
    "    previous_data = data\n",
    "\n",
    "    if hours>0:\n",
    "        data.ts = data.ts.dt.tz_localize(None, ambiguous='NaT')\n",
    "        delta=datetime.timedelta(hours=hours)\n",
    "        date_before = datetime.datetime.now() - delta\n",
    "        data=data[data.ts.between(date_before, datetime.datetime.now())].copy()\n",
    "\n",
    "\n",
    "        previous_data = long_form_data.copy()\n",
    "        previous_data.ts = previous_data.ts + delta\n",
    "        previous_data=previous_data[previous_data.ts.between(date_before, datetime.datetime.now())]\n",
    "\n",
    "        data.ts = data.ts.dt.tz_localize(timezone, ambiguous='NaT')\n",
    "        previous_data.ts = previous_data.ts.dt.tz_localize(timezone, ambiguous='NaT')\n",
    "\n",
    "\n",
    "    max_value = max( data.value.max(), previous_data.value.max())\n",
    "    data['max_value'] = max_value\n",
    "\n",
    "    # save the data locally for display inside jupyer, the html graph will reference this 'local' json\n",
    "    url = 'data-' + location + '-' + graph_type + '.json'\n",
    "    data.to_json(url, orient='records')\n",
    "\n",
    "    previous_url = 'data-' + location + '-' + graph_type + '-previous.json'\n",
    "    previous_data.to_json(previous_url, orient='records')\n",
    "\n",
    "    click = alt.selection_multi(encodings=['color'])\n",
    "\n",
    "    points = alt.Chart(url).mark_point().encode(\n",
    "        alt.X('ts:T', title='date'),\n",
    "        y=alt.Y('value:Q',\n",
    "                scale=alt.Scale(domain=(0,max(100, max_value))),\n",
    "                axis=alt.Axis(title='particle count')),\n",
    "        color='particle:N',\n",
    "        size=alt.value(1),\n",
    "        tooltip=['monthdate(ts):T','hoursminutes(ts):T','particle:N','value:Q'],\n",
    "    ).properties(\n",
    "        title='@'+location+' last '+graph_type,\n",
    "        width=800,\n",
    "        height=500\n",
    "    ).transform_filter(\n",
    "        click\n",
    "    ).interactive()\n",
    "\n",
    "    line = alt.Chart(url).mark_line().encode(\n",
    "      x='ts:T',\n",
    "      y='value:Q',\n",
    "      color='particle:N',\n",
    "      strokeDash='particle:N',\n",
    "      size=alt.value(3),\n",
    "    ).transform_window(\n",
    "        moving_avg='mean(value)',\n",
    "        frame=[-3, 2],\n",
    "        sort=[alt.SortField(\"ts\",\"ascending\")],\n",
    "        groupby=['particle']\n",
    "    ).encode(\n",
    "        x='ts:T',\n",
    "        y='moving_avg:Q'\n",
    "    ).transform_filter(\n",
    "        click\n",
    "    )\n",
    "\n",
    "\n",
    "    if hours>0:\n",
    "        previous_line = alt.Chart(previous_url).mark_line(opacity=0.3).encode(\n",
    "          x='ts:T',\n",
    "          y='value:Q',\n",
    "          color='particle:N',\n",
    "          strokeDash='particle:N',\n",
    "          size=alt.value(3),\n",
    "        ).transform_window(\n",
    "            moving_avg='mean(value)',\n",
    "            frame=[-3, 2],\n",
    "            sort=[alt.SortField(\"ts\",\"ascending\")],\n",
    "            groupby=['particle']\n",
    "        ).encode(\n",
    "            x='ts:T',\n",
    "            y='moving_avg:Q'\n",
    "        ).transform_filter(\n",
    "            click\n",
    "        )\n",
    "\n",
    "        #waiting for https://github.com/vega/vega/issues/2365\n",
    "#     print (max_value/1000.0)\n",
    "#     area = alt.Chart(url).mark_area(\n",
    "#         opacity=0.5,\n",
    "#         color=alt.Gradient(\n",
    "#             gradient='linear',\n",
    "#             stops=[\n",
    "#                    alt.GradientStop(color='#009966', offset=0.001),\n",
    "#                    alt.GradientStop(color='#ffde33', offset=0.050),\n",
    "#                    alt.GradientStop(color='#ff9933', offset=0.100),\n",
    "#                    alt.GradientStop(color='#e81111', offset=0.150),\n",
    "#                    alt.GradientStop(color='#660099', offset=0.200),\n",
    "#                    alt.GradientStop(color='#7e0023', offset=0.300),\n",
    "#                   ],\n",
    "#             x1=0,\n",
    "#             x2=0,\n",
    "#             y1=max_value/1000.0,\n",
    "#             y2=0\n",
    "#         )\n",
    "#       ).encode(\n",
    "#         x='ts:T',\n",
    "#         y='max_value:Q',\n",
    "#     )\n",
    "\n",
    "    legend = alt.Chart(url).mark_rect().encode(\n",
    "        y=alt.Y('particle:N', axis=alt.Axis(title='Particle type')),\n",
    "        color=alt.condition(click, 'particle:N',\n",
    "                            alt.value('lightgray'),\n",
    "                            legend=None),\n",
    "        size=alt.value(250)\n",
    "    ).properties(\n",
    "        selection=click\n",
    "    )\n",
    "\n",
    "\n",
    "    if hours>0:\n",
    "        chart = (points +line + previous_line) | legend\n",
    "    else:\n",
    "        chart = (points + line) | legend\n",
    "\n",
    "    chart = chart.configure_title(\n",
    "        fontSize=20,\n",
    "    )\n",
    "\n",
    "\n",
    "    if hours>0:\n",
    "        previous_data.to_json(output_dir+'/'+previous_url, orient='records')\n",
    "    json_file=output_dir+'/'+url\n",
    "    print(\"saving data to \" + json_file)\n",
    "    data.to_json(json_file, orient='records')\n",
    "    graph_file=output_dir+'/airquality-'+location+'-'+graph_type+'.html'\n",
    "    print(\"saving graph to \" + graph_file)\n",
    "    chart.save(graph_file)\n",
    "\n",
    "    return chart\n",
    "\n"
   ]
  },
  {
   "cell_type": "code",
   "execution_count": 60,
   "metadata": {
    "scrolled": true
   },
   "outputs": [
    {
     "name": "stdout",
     "output_type": "stream",
     "text": [
      "saving data to /tmp/jupyter/airquality/data-villiers-48H.json\n",
      "saving graph to /tmp/jupyter/airquality/airquality-villiers-48H.html\n"
     ]
    },
    {
     "data": {
      "text/html": "\n<div id=\"altair-viz-1d89cb8a8aa54805a6ca48264a5e7b9e\"></div>\n<script type=\"text/javascript\">\n  (function(spec, embedOpt){\n    let outputDiv = document.currentScript.previousElementSibling;\n    if (outputDiv.id !== \"altair-viz-1d89cb8a8aa54805a6ca48264a5e7b9e\") {\n      outputDiv = document.getElementById(\"altair-viz-1d89cb8a8aa54805a6ca48264a5e7b9e\");\n    }\n    const paths = {\n      \"vega\": \"https://cdn.jsdelivr.net/npm//vega@5?noext\",\n      \"vega-lib\": \"https://cdn.jsdelivr.net/npm//vega-lib?noext\",\n      \"vega-lite\": \"https://cdn.jsdelivr.net/npm//vega-lite@4.8.1?noext\",\n      \"vega-embed\": \"https://cdn.jsdelivr.net/npm//vega-embed@6?noext\",\n    };\n\n    function loadScript(lib) {\n      return new Promise(function(resolve, reject) {\n        var s = document.createElement('script');\n        s.src = paths[lib];\n        s.async = true;\n        s.onload = () => resolve(paths[lib]);\n        s.onerror = () => reject(`Error loading script: ${paths[lib]}`);\n        document.getElementsByTagName(\"head\")[0].appendChild(s);\n      });\n    }\n\n    function showError(err) {\n      outputDiv.innerHTML = `<div class=\"error\" style=\"color:red;\">${err}</div>`;\n      throw err;\n    }\n\n    function displayChart(vegaEmbed) {\n      vegaEmbed(outputDiv, spec, embedOpt)\n        .catch(err => showError(`Javascript Error: ${err.message}<br>This usually means there's a typo in your chart specification. See the javascript console for the full traceback.`));\n    }\n\n    if(typeof define === \"function\" && define.amd) {\n      requirejs.config({paths});\n      require([\"vega-embed\"], displayChart, err => showError(`Error loading script: ${err.message}`));\n    } else if (typeof vegaEmbed === \"function\") {\n      displayChart(vegaEmbed);\n    } else {\n      loadScript(\"vega\")\n        .then(() => loadScript(\"vega-lite\"))\n        .then(() => loadScript(\"vega-embed\"))\n        .catch(showError)\n        .then(() => displayChart(vegaEmbed));\n    }\n  })({\"config\": {\"view\": {\"continuousWidth\": 400, \"continuousHeight\": 300}, \"title\": {\"fontSize\": 20}}, \"hconcat\": [{\"layer\": [{\"mark\": \"point\", \"encoding\": {\"color\": {\"type\": \"nominal\", \"field\": \"particle\"}, \"size\": {\"value\": 1}, \"tooltip\": [{\"type\": \"temporal\", \"field\": \"ts\", \"timeUnit\": \"monthdate\"}, {\"type\": \"temporal\", \"field\": \"ts\", \"timeUnit\": \"hoursminutes\"}, {\"type\": \"nominal\", \"field\": \"particle\"}, {\"type\": \"quantitative\", \"field\": \"value\"}], \"x\": {\"type\": \"temporal\", \"field\": \"ts\", \"title\": \"date\"}, \"y\": {\"type\": \"quantitative\", \"axis\": {\"title\": \"particle count\"}, \"field\": \"value\", \"scale\": {\"domain\": [0, 100]}}}, \"height\": 500, \"selection\": {\"selector002\": {\"type\": \"interval\", \"bind\": \"scales\", \"encodings\": [\"x\", \"y\"]}}, \"title\": \"@villiers last 48H\", \"transform\": [{\"filter\": {\"selection\": \"selector001\"}}], \"width\": 800}, {\"mark\": \"line\", \"encoding\": {\"color\": {\"type\": \"nominal\", \"field\": \"particle\"}, \"size\": {\"value\": 3}, \"strokeDash\": {\"type\": \"nominal\", \"field\": \"particle\"}, \"x\": {\"type\": \"temporal\", \"field\": \"ts\"}, \"y\": {\"type\": \"quantitative\", \"field\": \"moving_avg\"}}, \"transform\": [{\"window\": [{\"op\": \"mean\", \"field\": \"value\", \"as\": \"moving_avg\"}], \"frame\": [-3, 2], \"groupby\": [\"particle\"], \"sort\": [{\"field\": \"ts\", \"order\": \"ascending\"}]}, {\"filter\": {\"selection\": \"selector001\"}}]}, {\"data\": {\"url\": \"data-villiers-48H-previous.json\"}, \"mark\": {\"type\": \"line\", \"opacity\": 0.3}, \"encoding\": {\"color\": {\"type\": \"nominal\", \"field\": \"particle\"}, \"size\": {\"value\": 3}, \"strokeDash\": {\"type\": \"nominal\", \"field\": \"particle\"}, \"x\": {\"type\": \"temporal\", \"field\": \"ts\"}, \"y\": {\"type\": \"quantitative\", \"field\": \"moving_avg\"}}, \"transform\": [{\"window\": [{\"op\": \"mean\", \"field\": \"value\", \"as\": \"moving_avg\"}], \"frame\": [-3, 2], \"groupby\": [\"particle\"], \"sort\": [{\"field\": \"ts\", \"order\": \"ascending\"}]}, {\"filter\": {\"selection\": \"selector001\"}}]}]}, {\"mark\": \"rect\", \"encoding\": {\"color\": {\"condition\": {\"type\": \"nominal\", \"field\": \"particle\", \"legend\": null, \"selection\": \"selector001\"}, \"value\": \"lightgray\"}, \"size\": {\"value\": 250}, \"y\": {\"type\": \"nominal\", \"axis\": {\"title\": \"Particle type\"}, \"field\": \"particle\"}}, \"selection\": {\"selector001\": {\"type\": \"multi\", \"encodings\": [\"color\"]}}}], \"data\": {\"url\": \"data-villiers-48H.json\"}, \"$schema\": \"https://vega.github.io/schema/vega-lite/v4.8.1.json\"}, {\"mode\": \"vega-lite\"});\n</script>",
      "text/plain": "alt.HConcatChart(...)"
     },
     "execution_count": 60,
     "metadata": {},
     "output_type": "execute_result"
    }
   ],
   "source": [
    "print_graph('48H', 48)"
   ]
  },
  {
   "cell_type": "code",
   "execution_count": 61,
   "metadata": {},
   "outputs": [
    {
     "name": "stdout",
     "output_type": "stream",
     "text": [
      "saving data to /tmp/jupyter/airquality/data-villiers-month.json\n",
      "saving graph to /tmp/jupyter/airquality/airquality-villiers-month.html\n"
     ]
    },
    {
     "data": {
      "text/html": "\n<div id=\"altair-viz-35a7d36cd65e4a3cb535164d9fc8dd7c\"></div>\n<script type=\"text/javascript\">\n  (function(spec, embedOpt){\n    let outputDiv = document.currentScript.previousElementSibling;\n    if (outputDiv.id !== \"altair-viz-35a7d36cd65e4a3cb535164d9fc8dd7c\") {\n      outputDiv = document.getElementById(\"altair-viz-35a7d36cd65e4a3cb535164d9fc8dd7c\");\n    }\n    const paths = {\n      \"vega\": \"https://cdn.jsdelivr.net/npm//vega@5?noext\",\n      \"vega-lib\": \"https://cdn.jsdelivr.net/npm//vega-lib?noext\",\n      \"vega-lite\": \"https://cdn.jsdelivr.net/npm//vega-lite@4.8.1?noext\",\n      \"vega-embed\": \"https://cdn.jsdelivr.net/npm//vega-embed@6?noext\",\n    };\n\n    function loadScript(lib) {\n      return new Promise(function(resolve, reject) {\n        var s = document.createElement('script');\n        s.src = paths[lib];\n        s.async = true;\n        s.onload = () => resolve(paths[lib]);\n        s.onerror = () => reject(`Error loading script: ${paths[lib]}`);\n        document.getElementsByTagName(\"head\")[0].appendChild(s);\n      });\n    }\n\n    function showError(err) {\n      outputDiv.innerHTML = `<div class=\"error\" style=\"color:red;\">${err}</div>`;\n      throw err;\n    }\n\n    function displayChart(vegaEmbed) {\n      vegaEmbed(outputDiv, spec, embedOpt)\n        .catch(err => showError(`Javascript Error: ${err.message}<br>This usually means there's a typo in your chart specification. See the javascript console for the full traceback.`));\n    }\n\n    if(typeof define === \"function\" && define.amd) {\n      requirejs.config({paths});\n      require([\"vega-embed\"], displayChart, err => showError(`Error loading script: ${err.message}`));\n    } else if (typeof vegaEmbed === \"function\") {\n      displayChart(vegaEmbed);\n    } else {\n      loadScript(\"vega\")\n        .then(() => loadScript(\"vega-lite\"))\n        .then(() => loadScript(\"vega-embed\"))\n        .catch(showError)\n        .then(() => displayChart(vegaEmbed));\n    }\n  })({\"config\": {\"view\": {\"continuousWidth\": 400, \"continuousHeight\": 300}, \"title\": {\"fontSize\": 20}}, \"hconcat\": [{\"layer\": [{\"mark\": \"point\", \"encoding\": {\"color\": {\"type\": \"nominal\", \"field\": \"particle\"}, \"size\": {\"value\": 1}, \"tooltip\": [{\"type\": \"temporal\", \"field\": \"ts\", \"timeUnit\": \"monthdate\"}, {\"type\": \"temporal\", \"field\": \"ts\", \"timeUnit\": \"hoursminutes\"}, {\"type\": \"nominal\", \"field\": \"particle\"}, {\"type\": \"quantitative\", \"field\": \"value\"}], \"x\": {\"type\": \"temporal\", \"field\": \"ts\", \"title\": \"date\"}, \"y\": {\"type\": \"quantitative\", \"axis\": {\"title\": \"particle count\"}, \"field\": \"value\", \"scale\": {\"domain\": [0, 100]}}}, \"height\": 500, \"selection\": {\"selector004\": {\"type\": \"interval\", \"bind\": \"scales\", \"encodings\": [\"x\", \"y\"]}}, \"title\": \"@villiers last month\", \"transform\": [{\"filter\": {\"selection\": \"selector003\"}}], \"width\": 800}, {\"mark\": \"line\", \"encoding\": {\"color\": {\"type\": \"nominal\", \"field\": \"particle\"}, \"size\": {\"value\": 3}, \"strokeDash\": {\"type\": \"nominal\", \"field\": \"particle\"}, \"x\": {\"type\": \"temporal\", \"field\": \"ts\"}, \"y\": {\"type\": \"quantitative\", \"field\": \"moving_avg\"}}, \"transform\": [{\"window\": [{\"op\": \"mean\", \"field\": \"value\", \"as\": \"moving_avg\"}], \"frame\": [-3, 2], \"groupby\": [\"particle\"], \"sort\": [{\"field\": \"ts\", \"order\": \"ascending\"}]}, {\"filter\": {\"selection\": \"selector003\"}}]}, {\"data\": {\"url\": \"data-villiers-month-previous.json\"}, \"mark\": {\"type\": \"line\", \"opacity\": 0.3}, \"encoding\": {\"color\": {\"type\": \"nominal\", \"field\": \"particle\"}, \"size\": {\"value\": 3}, \"strokeDash\": {\"type\": \"nominal\", \"field\": \"particle\"}, \"x\": {\"type\": \"temporal\", \"field\": \"ts\"}, \"y\": {\"type\": \"quantitative\", \"field\": \"moving_avg\"}}, \"transform\": [{\"window\": [{\"op\": \"mean\", \"field\": \"value\", \"as\": \"moving_avg\"}], \"frame\": [-3, 2], \"groupby\": [\"particle\"], \"sort\": [{\"field\": \"ts\", \"order\": \"ascending\"}]}, {\"filter\": {\"selection\": \"selector003\"}}]}]}, {\"mark\": \"rect\", \"encoding\": {\"color\": {\"condition\": {\"type\": \"nominal\", \"field\": \"particle\", \"legend\": null, \"selection\": \"selector003\"}, \"value\": \"lightgray\"}, \"size\": {\"value\": 250}, \"y\": {\"type\": \"nominal\", \"axis\": {\"title\": \"Particle type\"}, \"field\": \"particle\"}}, \"selection\": {\"selector003\": {\"type\": \"multi\", \"encodings\": [\"color\"]}}}], \"data\": {\"url\": \"data-villiers-month.json\"}, \"$schema\": \"https://vega.github.io/schema/vega-lite/v4.8.1.json\"}, {\"mode\": \"vega-lite\"});\n</script>",
      "text/plain": "alt.HConcatChart(...)"
     },
     "execution_count": 61,
     "metadata": {},
     "output_type": "execute_result"
    }
   ],
   "source": [
    "print_graph('month', 24*30)"
   ]
  },
  {
   "cell_type": "code",
   "execution_count": 62,
   "metadata": {},
   "outputs": [
    {
     "name": "stdout",
     "output_type": "stream",
     "text": [
      "saving data to /tmp/jupyter/airquality/data-villiers-year.json\n",
      "saving graph to /tmp/jupyter/airquality/airquality-villiers-year.html\n"
     ]
    },
    {
     "data": {
      "text/html": "\n<div id=\"altair-viz-f709755a4c904055b31dfb7fbf5e625b\"></div>\n<script type=\"text/javascript\">\n  (function(spec, embedOpt){\n    let outputDiv = document.currentScript.previousElementSibling;\n    if (outputDiv.id !== \"altair-viz-f709755a4c904055b31dfb7fbf5e625b\") {\n      outputDiv = document.getElementById(\"altair-viz-f709755a4c904055b31dfb7fbf5e625b\");\n    }\n    const paths = {\n      \"vega\": \"https://cdn.jsdelivr.net/npm//vega@5?noext\",\n      \"vega-lib\": \"https://cdn.jsdelivr.net/npm//vega-lib?noext\",\n      \"vega-lite\": \"https://cdn.jsdelivr.net/npm//vega-lite@4.8.1?noext\",\n      \"vega-embed\": \"https://cdn.jsdelivr.net/npm//vega-embed@6?noext\",\n    };\n\n    function loadScript(lib) {\n      return new Promise(function(resolve, reject) {\n        var s = document.createElement('script');\n        s.src = paths[lib];\n        s.async = true;\n        s.onload = () => resolve(paths[lib]);\n        s.onerror = () => reject(`Error loading script: ${paths[lib]}`);\n        document.getElementsByTagName(\"head\")[0].appendChild(s);\n      });\n    }\n\n    function showError(err) {\n      outputDiv.innerHTML = `<div class=\"error\" style=\"color:red;\">${err}</div>`;\n      throw err;\n    }\n\n    function displayChart(vegaEmbed) {\n      vegaEmbed(outputDiv, spec, embedOpt)\n        .catch(err => showError(`Javascript Error: ${err.message}<br>This usually means there's a typo in your chart specification. See the javascript console for the full traceback.`));\n    }\n\n    if(typeof define === \"function\" && define.amd) {\n      requirejs.config({paths});\n      require([\"vega-embed\"], displayChart, err => showError(`Error loading script: ${err.message}`));\n    } else if (typeof vegaEmbed === \"function\") {\n      displayChart(vegaEmbed);\n    } else {\n      loadScript(\"vega\")\n        .then(() => loadScript(\"vega-lite\"))\n        .then(() => loadScript(\"vega-embed\"))\n        .catch(showError)\n        .then(() => displayChart(vegaEmbed));\n    }\n  })({\"config\": {\"view\": {\"continuousWidth\": 400, \"continuousHeight\": 300}, \"title\": {\"fontSize\": 20}}, \"hconcat\": [{\"layer\": [{\"mark\": \"point\", \"encoding\": {\"color\": {\"type\": \"nominal\", \"field\": \"particle\"}, \"size\": {\"value\": 1}, \"tooltip\": [{\"type\": \"temporal\", \"field\": \"ts\", \"timeUnit\": \"monthdate\"}, {\"type\": \"temporal\", \"field\": \"ts\", \"timeUnit\": \"hoursminutes\"}, {\"type\": \"nominal\", \"field\": \"particle\"}, {\"type\": \"quantitative\", \"field\": \"value\"}], \"x\": {\"type\": \"temporal\", \"field\": \"ts\", \"title\": \"date\"}, \"y\": {\"type\": \"quantitative\", \"axis\": {\"title\": \"particle count\"}, \"field\": \"value\", \"scale\": {\"domain\": [0, 100]}}}, \"height\": 500, \"selection\": {\"selector006\": {\"type\": \"interval\", \"bind\": \"scales\", \"encodings\": [\"x\", \"y\"]}}, \"title\": \"@villiers last year\", \"transform\": [{\"filter\": {\"selection\": \"selector005\"}}], \"width\": 800}, {\"mark\": \"line\", \"encoding\": {\"color\": {\"type\": \"nominal\", \"field\": \"particle\"}, \"size\": {\"value\": 3}, \"strokeDash\": {\"type\": \"nominal\", \"field\": \"particle\"}, \"x\": {\"type\": \"temporal\", \"field\": \"ts\"}, \"y\": {\"type\": \"quantitative\", \"field\": \"moving_avg\"}}, \"transform\": [{\"window\": [{\"op\": \"mean\", \"field\": \"value\", \"as\": \"moving_avg\"}], \"frame\": [-3, 2], \"groupby\": [\"particle\"], \"sort\": [{\"field\": \"ts\", \"order\": \"ascending\"}]}, {\"filter\": {\"selection\": \"selector005\"}}]}, {\"data\": {\"url\": \"data-villiers-year-previous.json\"}, \"mark\": {\"type\": \"line\", \"opacity\": 0.3}, \"encoding\": {\"color\": {\"type\": \"nominal\", \"field\": \"particle\"}, \"size\": {\"value\": 3}, \"strokeDash\": {\"type\": \"nominal\", \"field\": \"particle\"}, \"x\": {\"type\": \"temporal\", \"field\": \"ts\"}, \"y\": {\"type\": \"quantitative\", \"field\": \"moving_avg\"}}, \"transform\": [{\"window\": [{\"op\": \"mean\", \"field\": \"value\", \"as\": \"moving_avg\"}], \"frame\": [-3, 2], \"groupby\": [\"particle\"], \"sort\": [{\"field\": \"ts\", \"order\": \"ascending\"}]}, {\"filter\": {\"selection\": \"selector005\"}}]}]}, {\"mark\": \"rect\", \"encoding\": {\"color\": {\"condition\": {\"type\": \"nominal\", \"field\": \"particle\", \"legend\": null, \"selection\": \"selector005\"}, \"value\": \"lightgray\"}, \"size\": {\"value\": 250}, \"y\": {\"type\": \"nominal\", \"axis\": {\"title\": \"Particle type\"}, \"field\": \"particle\"}}, \"selection\": {\"selector005\": {\"type\": \"multi\", \"encodings\": [\"color\"]}}}], \"data\": {\"url\": \"data-villiers-year.json\"}, \"$schema\": \"https://vega.github.io/schema/vega-lite/v4.8.1.json\"}, {\"mode\": \"vega-lite\"});\n</script>",
      "text/plain": "alt.HConcatChart(...)"
     },
     "execution_count": 62,
     "metadata": {},
     "output_type": "execute_result"
    }
   ],
   "source": [
    "print_graph('year', 24*30)"
   ]
  }
 ],
 "metadata": {
  "celltoolbar": "Diaporama",
  "kernelspec": {
   "display_name": "Python 3",
   "language": "python",
   "name": "python3"
  },
  "language_info": {
   "codemirror_mode": {
    "name": "ipython",
    "version": 3
   },
   "file_extension": ".py",
   "mimetype": "text/x-python",
   "name": "python",
   "nbconvert_exporter": "python",
   "pygments_lexer": "ipython3",
   "version": "3.8.5"
  }
 },
 "nbformat": 4,
 "nbformat_minor": 2
}